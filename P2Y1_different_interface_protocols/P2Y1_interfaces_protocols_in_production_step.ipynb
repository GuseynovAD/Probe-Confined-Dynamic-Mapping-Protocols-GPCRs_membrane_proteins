{
 "cells": [
  {
   "cell_type": "markdown",
   "metadata": {},
   "source": [
    "If you use this script for your research, please cite our paper: Ciancetta A, Gill A. K., Ding T., Karlov D.S., McCormick P., Tikhonova I.G. 'Probe Confined Dynamic Mapping for GPCRs Allosteric Site Prediction' eLife, 2021, Submitted."
   ]
  },
  {
   "cell_type": "markdown",
   "metadata": {},
   "source": [
    "Initialize HTMD"
   ]
  },
  {
   "cell_type": "code",
   "execution_count": 1,
   "metadata": {
    "scrolled": true
   },
   "outputs": [
    {
     "name": "stdout",
     "output_type": "stream",
     "text": [
      "ffevaluate module is in beta version\n",
      "\n",
      "Please cite HTMD: Doerr et al.(2016)JCTC,12,1845. https://dx.doi.org/10.1021/acs.jctc.6b00049\n",
      "\n",
      "HTMD Documentation at: https://www.htmd.org/docs/latest/\n",
      "\n"
     ]
    },
    {
     "name": "stderr",
     "output_type": "stream",
     "text": [
      "2021-05-27 16:23:57,411 - binstar - INFO - Using Anaconda API: https://api.anaconda.org\n"
     ]
    },
    {
     "name": "stdout",
     "output_type": "stream",
     "text": [
      "New devel HTMD version (1.24.7 python[3.6,<3.7.0a0,3.7,<3.8.0a0]) is available. You are currently on (1.13.9). Use 'conda update -c acellera htmd' to update to the new version. You might need to update your python version as well if there is no release for your current version.\n",
      "\n"
     ]
    },
    {
     "name": "stderr",
     "output_type": "stream",
     "text": [
      "/usr/local/miniconda3/lib/python3.6/site-packages/pyemma/__init__.py:91: UserWarning: You are not using the latest release of PyEMMA. Latest is 2.5.7, you have 2.4.\n",
      "  .format(latest=latest, current=current), category=UserWarning)\n"
     ]
    }
   ],
   "source": [
    "from htmd.ui import *\n",
    "from htmd.molecule.util import uniformRandomRotation\n",
    "import nglview as nv\n",
    "from nglview.datafiles import PDB, XTC\n",
    "import configparser\n",
    "from itertools import groupby\n",
    "import math\n"
   ]
  },
  {
   "cell_type": "markdown",
   "metadata": {},
   "source": [
    "## Load variables from Input File"
   ]
  },
  {
   "cell_type": "code",
   "execution_count": 2,
   "metadata": {},
   "outputs": [
    {
     "name": "stdout",
     "output_type": "stream",
     "text": [
      "{'name': 'hP2Y1_4XNW_superposed', 'lipid': 'POPC', 'coname': 'P2O', 'pm': '95.101', 'conc': '10', 'csolv': 'P2O', 'zoff': '6.000000', 'zheight': '20.0000', 'offset': '1.000000', 'zoffset': '1.000000', 'disu': '42-296; 124-202'}\n"
     ]
    }
   ],
   "source": [
    "cfg = configparser.RawConfigParser()\n",
    "cfg.read('midas_acemd.cfg')       # Read file\n",
    "par=dict(cfg.items(\"Settings\"))\n",
    "for p in par:\n",
    "    par[p]=par[p].split(\"#\",1)[0].strip() # To get rid of inline comments\n",
    "globals().update(par)  #Make them availible globally\n",
    "print (par)"
   ]
  },
  {
   "cell_type": "markdown",
   "metadata": {},
   "source": [
    "## Chek if Packmol Runs"
   ]
  },
  {
   "cell_type": "code",
   "execution_count": 3,
   "metadata": {},
   "outputs": [],
   "source": [
    "pmol = shutil.which(\"packmol\", mode=os.X_OK)\n",
    "if not pmol:\n",
    "    raise FileNotFoundError('packmol not found. You should have packmol installed ')"
   ]
  },
  {
   "cell_type": "markdown",
   "metadata": {},
   "source": [
    "## Calculate Cosolvent Box Dimensions"
   ]
  },
  {
   "cell_type": "code",
   "execution_count": 4,
   "metadata": {},
   "outputs": [
    {
     "name": "stdout",
     "output_type": "stream",
     "text": [
      "38.921997 40.458 47.07899856567383 67.07899856567383\n"
     ]
    },
    {
     "name": "stderr",
     "output_type": "stream",
     "text": [
      "/usr/local/miniconda3/lib/python3.6/site-packages/htmd/molecule/readers.py:200: FutureWarning: Conversion of the second argument of issubdtype from `float` to `np.floating` is deprecated. In future, it will be treated as `np.float64 == np.dtype(float).type`.\n",
      "  if np.issubdtype(mol._dtypes[field], np.float) \\\n"
     ]
    }
   ],
   "source": [
    "mol1 = Molecule(name + '.pdb')\n",
    "c=mol1.get('coords', sel='protein and z > 0')\n",
    "#Calculate minimum and maximum coordinates\n",
    "pmin=np.min(c, axis=0)\n",
    "pmax=np.max(c, axis=0)\n",
    "xmin=pmin[0] \n",
    "xmax=pmax[0] \n",
    "ymin=pmin[1]\n",
    "ymax=pmax[1] \n",
    "zmin=pmin[2]\n",
    "zmax=pmax[2]\n",
    "xsize=xmax-xmin \n",
    "ysize=ymax-ymin\n",
    "zl2=zmax + float(zoff)\n",
    "zl4=zl2+ float(zheight)\n",
    "print(xsize,ysize,zl2,zl4)"
   ]
  },
  {
   "cell_type": "markdown",
   "metadata": {},
   "source": [
    "## Visualize box"
   ]
  },
  {
   "cell_type": "code",
   "execution_count": 5,
   "metadata": {},
   "outputs": [],
   "source": [
    "mol1.view('not water', gui=False)\n",
    "b = VMDBox([xmin, xmax, ymin, ymax, zl2, zl4])"
   ]
  },
  {
   "cell_type": "markdown",
   "metadata": {},
   "source": [
    "## Calculate number of water molecules fitting the box"
   ]
  },
  {
   "cell_type": "code",
   "execution_count": 6,
   "metadata": {},
   "outputs": [
    {
     "name": "stderr",
     "output_type": "stream",
     "text": [
      "2021-05-27 16:26:29,941 - htmd.builder.solvate - INFO - Using water pdb file at: /usr/local/miniconda3/lib/python3.6/site-packages/htmd/builder/wat.pdb\n",
      "2021-05-27 16:26:31,436 - htmd.builder.solvate - INFO - Replicating 1 water segments, 1 by 1 by 1\n",
      "Solvating: 100%|██████████| 1/1 [00:00<00:00,  1.19it/s]\n",
      "2021-05-27 16:26:32,346 - htmd.builder.solvate - INFO - 961 water molecules were added to the system.\n"
     ]
    },
    {
     "name": "stdout",
     "output_type": "stream",
     "text": [
      "961\n"
     ]
    }
   ],
   "source": [
    "#Create a box of soley water molecules\n",
    "smol1 = solvate(mol1, minmax=[[xmin, ymin, zl2],[xmax, ymax, zl4]])\n",
    "smol1.view()\n",
    "#Calculate the number of water molecules fitting the box\n",
    "numwat=len(smol1.get(\"resid\",sel=\"name OH2\"))\n",
    "print(numwat)"
   ]
  },
  {
   "cell_type": "markdown",
   "metadata": {},
   "source": [
    "## Calculate number of cosolvent molecules"
   ]
  },
  {
   "cell_type": "code",
   "execution_count": 7,
   "metadata": {},
   "outputs": [
    {
     "name": "stdout",
     "output_type": "stream",
     "text": [
      "19\n"
     ]
    }
   ],
   "source": [
    "numsol=numwat*18.0528*(int(conc)/100)/float(pm)\n",
    "cnumsol=int(math.ceil(numsol))\n",
    "print(cnumsol)"
   ]
  },
  {
   "cell_type": "markdown",
   "metadata": {},
   "source": [
    "## Calculate Packmol boxes dimensions"
   ]
  },
  {
   "cell_type": "code",
   "execution_count": 8,
   "metadata": {},
   "outputs": [
    {
     "name": "stdout",
     "output_type": "stream",
     "text": [
      "Boxes dimensions: 39 41 20\n"
     ]
    }
   ],
   "source": [
    "intxs=int(math.ceil(float(xsize)))\n",
    "intys=int(math.ceil(float(ysize)))\n",
    "intzs=int(math.ceil(float(zheight)))\n",
    "print(\"Boxes dimensions:\", intxs, intys, intzs)"
   ]
  },
  {
   "cell_type": "markdown",
   "metadata": {},
   "source": [
    "## Creates Input for Packmol"
   ]
  },
  {
   "cell_type": "code",
   "execution_count": 9,
   "metadata": {},
   "outputs": [],
   "source": [
    "output1=conc + \"_\" + coname + \"_box\"\n",
    "packs=output1 + \".inp\"\n",
    "print(\"\"\"\n",
    "tolerance 2.5\n",
    "filetype pdb\n",
    "output %s.pdb\n",
    "structure %s.pdb\n",
    "  number %s\n",
    "  inside box 0. 0. 0. %s. %s. %s.\n",
    "end structure\n",
    "\"\"\" %(output1,coname,cnumsol,intxs, intys, intzs), file=open(packs, \"w\"))"
   ]
  },
  {
   "cell_type": "markdown",
   "metadata": {},
   "source": [
    "## Runs packmol and creates cosolvent box at desired concentration"
   ]
  },
  {
   "cell_type": "code",
   "execution_count": 10,
   "metadata": {},
   "outputs": [
    {
     "data": {
      "text/plain": [
       "0"
      ]
     },
     "execution_count": 10,
     "metadata": {},
     "output_type": "execute_result"
    }
   ],
   "source": [
    "os.system(pmol + '<' + packs)"
   ]
  },
  {
   "cell_type": "markdown",
   "metadata": {},
   "source": [
    "## Moves the box to the correct coordinates"
   ]
  },
  {
   "cell_type": "code",
   "execution_count": 11,
   "metadata": {},
   "outputs": [
    {
     "name": "stdout",
     "output_type": "stream",
     "text": [
      "10_P2O_box_moved.pdb\n"
     ]
    }
   ],
   "source": [
    "cbox=Molecule(output1 + \".pdb\")\n",
    "movedb=cbox.copy()\n",
    "movedb.moveBy([xmin, ymin , zl2])\n",
    "movedb.view()\n",
    "b = VMDBox([xmin, xmax, ymin, ymax, zl2, zl4])\n",
    "movedb.write(output1 + \"_moved.pdb\")\n",
    "cosolvent=(output1 + \"_moved.pdb\")\n",
    "print(cosolvent)"
   ]
  },
  {
   "cell_type": "markdown",
   "metadata": {},
   "source": [
    "## System Setup"
   ]
  },
  {
   "cell_type": "code",
   "execution_count": 12,
   "metadata": {},
   "outputs": [
    {
     "name": "stderr",
     "output_type": "stream",
     "text": [
      "2021-05-27 16:27:33,065 - htmd.molecule.molecule - INFO - Removed 10611 atoms. 28810 atoms remaining in the molecule.\n",
      "2021-05-27 16:27:33,364 - htmd.molecule.molecule - INFO - Removed 0 atoms. 4882 atoms remaining in the molecule.\n",
      "2021-05-27 16:27:33,426 - htmd.molecule.molecule - INFO - Removed 0 atoms. 4882 atoms remaining in the molecule.\n"
     ]
    }
   ],
   "source": [
    "# System Setup\n",
    "prot=Molecule(name + '.pdb')  #needs CYS HG->HG1\n",
    "prot.set('name','HG1',sel='resname CYS and name HG')\n",
    "memb=Molecule('membrane_c36.pdb')\n",
    "memb.filter('resname %s' %(lipid))  #only POPC or embed messes up\n",
    "prot.set('segid', 'PRO', sel='protein')\n",
    "prot.set('segid', 'W', sel='water')\n",
    "prot.set('segid', 'CA', sel='resname CA')\n",
    "prot.remove('resname ACE')\n",
    "prot.remove('resname NMA')\n",
    "csol = Molecule(cosolvent)\n",
    "csol.set('segid','C1')\n",
    "prot.append(csol)\n",
    "mol2=embed(prot,memb)\n",
    "mol2.view()\n",
    "mol2.write(\"embedded_system.pdb\")"
   ]
  },
  {
   "cell_type": "markdown",
   "metadata": {},
   "source": [
    "## System Solvation"
   ]
  },
  {
   "cell_type": "code",
   "execution_count": 13,
   "metadata": {},
   "outputs": [
    {
     "name": "stderr",
     "output_type": "stream",
     "text": [
      "2021-05-27 16:28:06,665 - htmd.builder.solvate - INFO - Using water pdb file at: /usr/local/miniconda3/lib/python3.6/site-packages/htmd/builder/wat.pdb\n",
      "2021-05-27 16:28:08,138 - htmd.builder.solvate - INFO - Replicating 12 water segments, 2 by 2 by 3\n",
      "Solvating: 100%|██████████| 12/12 [00:27<00:00,  2.27s/it]\n",
      "2021-05-27 16:28:43,106 - htmd.builder.solvate - INFO - 28021 water molecules were added to the system.\n",
      "2021-05-27 16:28:43,413 - htmd.molecule.writers - WARNING - Field \"serial\" of PDB overflows. Your data will be truncated to 5 characters.\n",
      "2021-05-27 16:28:49,678 - htmd.molecule.writers - WARNING - Field \"serial\" of PDB overflows. Your data will be truncated to 5 characters.\n"
     ]
    }
   ],
   "source": [
    "smol2 = solvate(mol2, negz=30, posz=10)\n",
    "smol2.write('solvated_system.pdb')\n",
    "smol2.view()"
   ]
  },
  {
   "cell_type": "markdown",
   "metadata": {},
   "source": [
    "## Print Lig e Csolv Par and Top Filenames"
   ]
  },
  {
   "cell_type": "code",
   "execution_count": 14,
   "metadata": {},
   "outputs": [
    {
     "name": "stdout",
     "output_type": "stream",
     "text": [
      "top_P2O.rtf par_P2O.prm\n"
     ]
    }
   ],
   "source": [
    "csolt=\"top_\" + coname + \".rtf\"\n",
    "csolp=\"par_\" + coname + \".prm\"\n",
    "print(csolt, csolp)"
   ]
  },
  {
   "cell_type": "markdown",
   "metadata": {},
   "source": [
    "## Create PSF File"
   ]
  },
  {
   "cell_type": "code",
   "execution_count": 15,
   "metadata": {},
   "outputs": [
    {
     "name": "stderr",
     "output_type": "stream",
     "text": [
      "2021-05-27 16:29:16,389 - htmd.builder.charmm - INFO - Writing out segments.\n",
      "2021-05-27 16:29:37,406 - htmd.molecule.writers - WARNING - Field \"serial\" of PDB overflows. Your data will be truncated to 5 characters.\n",
      "2021-05-27 16:29:38,617 - htmd.molecule.writers - WARNING - Field \"serial\" of PDB overflows. Your data will be truncated to 5 characters.\n",
      "2021-05-27 16:29:39,678 - htmd.molecule.writers - WARNING - Field \"serial\" of PDB overflows. Your data will be truncated to 5 characters.\n",
      "2021-05-27 16:29:40,564 - htmd.molecule.writers - WARNING - Field \"serial\" of PDB overflows. Your data will be truncated to 5 characters.\n",
      "2021-05-27 16:29:41,623 - htmd.molecule.writers - WARNING - Field \"serial\" of PDB overflows. Your data will be truncated to 5 characters.\n",
      "2021-05-27 16:29:41,717 - htmd.builder.builder - INFO - 2 disulfide bonds were added\n"
     ]
    },
    {
     "name": "stdout",
     "output_type": "stream",
     "text": [
      "Disulfide Bond between: UniqueResidueID<resname: 'CYS', chain: 'A', resid: 42, insertion: '', segid: 'PRO'>\n",
      "                   and: UniqueResidueID<resname: 'CYS', chain: 'A', resid: 296, insertion: '', segid: 'PRO'>\n",
      "\n",
      "Disulfide Bond between: UniqueResidueID<resname: 'CYS', chain: 'A', resid: 124, insertion: '', segid: 'PRO'>\n",
      "                   and: UniqueResidueID<resname: 'CYS', chain: 'A', resid: 202, insertion: '', segid: 'PRO'>\n",
      "\n"
     ]
    },
    {
     "name": "stderr",
     "output_type": "stream",
     "text": [
      "2021-05-27 16:29:42,269 - htmd.builder.charmm - INFO - Starting the build.\n",
      "2021-05-27 16:29:44,869 - htmd.builder.charmm - WARNING - Failed to set coordinates for 6 atoms.\n",
      "2021-05-27 16:29:44,870 - htmd.builder.charmm - WARNING - Poorly guessed coordinates for 13 atoms.\n",
      "2021-05-27 16:29:44,871 - htmd.builder.charmm - WARNING - Please check /media/tianyiding/SeconHD/Archer2/P2Y1_inter/P2O_p2y1_345/test_scripts/build/log.txt for further information.\n",
      "2021-05-27 16:29:44,872 - htmd.builder.charmm - INFO - Finished building.\n",
      "2021-05-27 16:29:48,694 - htmd.molecule.readers - WARNING - Non-integer values were read from the PDB \"serial\" field. Dropping PDB values and assigning new ones.\n",
      "2021-05-27 16:29:48,861 - htmd.molecule.readers - WARNING - Reading PDB file with more than 99999 atoms. Bond information can be wrong.\n",
      "2021-05-27 16:29:56,080 - htmd.builder.ionize - INFO - Adding 17 anions + 0 cations for neutralizing and 162 ions for the given salt concentration.\n",
      "2021-05-27 16:32:30,463 - htmd.builder.charmm - INFO - Writing out segments.\n",
      "2021-05-27 16:32:51,161 - htmd.molecule.writers - WARNING - Field \"serial\" of PDB overflows. Your data will be truncated to 5 characters.\n",
      "2021-05-27 16:32:52,531 - htmd.molecule.writers - WARNING - Field \"serial\" of PDB overflows. Your data will be truncated to 5 characters.\n",
      "2021-05-27 16:32:53,395 - htmd.molecule.writers - WARNING - Field \"serial\" of PDB overflows. Your data will be truncated to 5 characters.\n",
      "2021-05-27 16:32:54,252 - htmd.molecule.writers - WARNING - Field \"serial\" of PDB overflows. Your data will be truncated to 5 characters.\n",
      "2021-05-27 16:32:55,194 - htmd.molecule.writers - WARNING - Field \"serial\" of PDB overflows. Your data will be truncated to 5 characters.\n",
      "2021-05-27 16:32:56,362 - htmd.molecule.writers - WARNING - Field \"serial\" of PDB overflows. Your data will be truncated to 5 characters.\n",
      "2021-05-27 16:32:56,864 - htmd.builder.charmm - INFO - Starting the build.\n",
      "2021-05-27 16:32:59,257 - htmd.builder.charmm - WARNING - Failed to set coordinates for 6 atoms.\n",
      "2021-05-27 16:32:59,260 - htmd.builder.charmm - WARNING - Poorly guessed coordinates for 13 atoms.\n",
      "2021-05-27 16:32:59,260 - htmd.builder.charmm - WARNING - Please check /media/tianyiding/SeconHD/Archer2/P2Y1_inter/P2O_p2y1_345/test_scripts/build/log.txt for further information.\n",
      "2021-05-27 16:32:59,261 - htmd.builder.charmm - INFO - Finished building.\n",
      "2021-05-27 16:33:03,314 - htmd.molecule.readers - WARNING - Non-integer values were read from the PDB \"serial\" field. Dropping PDB values and assigning new ones.\n",
      "2021-05-27 16:33:03,471 - htmd.molecule.readers - WARNING - Reading PDB file with more than 99999 atoms. Bond information can be wrong.\n"
     ]
    }
   ],
   "source": [
    "topos  = [csolt,'top/top_all36_prot.rtf','top/top_all36_cgenff.rtf','top/top_all36_lipid.rtf','top/top_water_ions.rtf']\n",
    "params = [csolp,'par/par_all36_prot.prm','par/par_all36_cgenff.prm','par/par_all36_lipid.prm','par/par_water_ions.prm']\n",
    "plm = charmm.build(smol2, topo=topos, param=params,outdir='build',ionize=True,saltconc=0.154,saltanion='CL',saltcation='NA')"
   ]
  },
  {
   "cell_type": "markdown",
   "metadata": {},
   "source": [
    "## View System"
   ]
  },
  {
   "cell_type": "code",
   "execution_count": 16,
   "metadata": {},
   "outputs": [
    {
     "name": "stderr",
     "output_type": "stream",
     "text": [
      "2021-05-27 16:34:21,095 - htmd.molecule.writers - WARNING - Field \"serial\" of PDB overflows. Your data will be truncated to 5 characters.\n"
     ]
    }
   ],
   "source": [
    "plm.view()"
   ]
  },
  {
   "cell_type": "markdown",
   "metadata": {},
   "source": [
    "## Measure Cell Dimensions"
   ]
  },
  {
   "cell_type": "code",
   "execution_count": 17,
   "metadata": {},
   "outputs": [
    {
     "name": "stdout",
     "output_type": "stream",
     "text": [
      "92.906 93.597 142.13\n"
     ]
    }
   ],
   "source": [
    "boxc=plm.get('coords')\n",
    "bpmin=np.min(boxc, axis=0)\n",
    "bpmax=np.max(boxc, axis=0)\n",
    "bxmin=bpmin[0] \n",
    "bxmax=bpmax[0] \n",
    "bymin=bpmin[1]\n",
    "bymax=bpmax[1] \n",
    "bzmin=bpmin[2]\n",
    "bzmax=bpmax[2]\n",
    "bxsize=bxmax-bxmin \n",
    "bysize=bymax-bymin\n",
    "bzsize=bzmax-bzmin\n",
    "print(bxsize,bysize,bzsize)"
   ]
  },
  {
   "cell_type": "markdown",
   "metadata": {},
   "source": [
    "## Measure Cell Origin"
   ]
  },
  {
   "cell_type": "code",
   "execution_count": 18,
   "metadata": {
    "scrolled": true
   },
   "outputs": [
    {
     "name": "stdout",
     "output_type": "stream",
     "text": [
      "[-4.23748   -2.5885072  6.054047 ]\n",
      "-4.23748 -2.5885072 6.054047\n"
     ]
    }
   ],
   "source": [
    "bcen=np.average(boxc, axis=0)\n",
    "print(bcen)\n",
    "bcenx=bcen[0]\n",
    "bceny=bcen[1]\n",
    "bcenz=bcen[2]\n",
    "print(bcenx,bceny,bcenz)"
   ]
  },
  {
   "cell_type": "markdown",
   "metadata": {},
   "source": [
    "## Measure Protein Mass Center"
   ]
  },
  {
   "cell_type": "code",
   "execution_count": 19,
   "metadata": {},
   "outputs": [
    {
     "name": "stdout",
     "output_type": "stream",
     "text": [
      "[12.011  1.008  1.008 ...  1.008  1.008  1.008]\n",
      "[-0.21692628  0.1851154   1.7042737 ]\n",
      "-0.21692628 0.1851154 1.7042737\n"
     ]
    }
   ],
   "source": [
    "protc=plm.get('coords', sel='protein')\n",
    "protm=plm.get('masses', sel='protein')\n",
    "print(protm)\n",
    "protcm=np.average(protc, axis=0, weights=protm)\n",
    "print(protcm)\n",
    "protcenx=protcm[0]\n",
    "protceny=protcm[1]\n",
    "protcenz=protcm[2]\n",
    "print(protcenx,protceny,protcenz)"
   ]
  },
  {
   "cell_type": "markdown",
   "metadata": {},
   "source": [
    "## Create Constraints for Eq01"
   ]
  },
  {
   "cell_type": "code",
   "execution_count": 21,
   "metadata": {},
   "outputs": [
    {
     "name": "stderr",
     "output_type": "stream",
     "text": [
      "2021-02-14 22:26:54,668 - htmd.molecule.writers - WARNING - Field \"serial\" of PDB overflows. Your data will be truncated to 5 characters.\n"
     ]
    }
   ],
   "source": [
    "plm.set('beta', '1', sel='resname %s or water or ions or protein or (resname %s and name P O11 O12 O13 O14 C11 C12 C13 C14 C15 H11A H11B H12A H12B H13A H13B H13C H14A H14B H14C H15A H15B H15C)' %(csolv,lipid))\n",
    "plm.write('mineq-01.pdb')"
   ]
  },
  {
   "cell_type": "markdown",
   "metadata": {},
   "source": [
    "## Create Constraints for Eq02"
   ]
  },
  {
   "cell_type": "code",
   "execution_count": 21,
   "metadata": {},
   "outputs": [
    {
     "name": "stderr",
     "output_type": "stream",
     "text": [
      "2021-02-09 20:42:23,336 - htmd.molecule.writers - WARNING - Field \"serial\" of PDB overflows. Your data will be truncated to 5 characters.\n"
     ]
    }
   ],
   "source": [
    "plm.set('beta', '0', sel='all')\n",
    "plm.set('beta', '1', sel='protein')\n",
    "plm.write('mineq-02.pdb')"
   ]
  },
  {
   "cell_type": "markdown",
   "metadata": {},
   "source": [
    "## Create Constraints for Prod"
   ]
  },
  {
   "cell_type": "code",
   "execution_count": 22,
   "metadata": {},
   "outputs": [
    {
     "name": "stderr",
     "output_type": "stream",
     "text": [
      "2021-02-09 20:43:42,316 - htmd.molecule.writers - WARNING - Field \"serial\" of PDB overflows. Your data will be truncated to 5 characters.\n"
     ]
    }
   ],
   "source": [
    "plm.set('beta', '0', sel='all')\n",
    "plm.set('beta', '1', sel='protein and name CA and z > -5 and z < 5')\n",
    "plm.write('prod.pdb')"
   ]
  },
  {
   "cell_type": "markdown",
   "metadata": {},
   "source": [
    "## Create Input File for Eq01"
   ]
  },
  {
   "cell_type": "code",
   "execution_count": 37,
   "metadata": {},
   "outputs": [],
   "source": [
    "print(\"\"\"\n",
    "#############################################################\n",
    "## JOB DESCRIPTION                                         ##\n",
    "#############################################################\n",
    "\n",
    "# Min. and Eq. of Co-Solvent Membrane System\n",
    "# embedded in POPC membrane, ions and water.\n",
    "# Melting lipid tails. PME, Constant Volume.\n",
    "\n",
    "#############################################################\n",
    "## ADJUSTABLE PARAMETERS                                   ##\n",
    "#############################################################\n",
    "\n",
    "structure          structure.psf\n",
    "coordinates        structure.pdb\n",
    "outputName         mineq-01\n",
    "\n",
    "set temperature    310\n",
    "\n",
    "firsttimestep      0\n",
    "\n",
    "#############################################################\n",
    "## SIMULATION PARAMETERS                                   ##\n",
    "#############################################################\n",
    "# Input\n",
    "paraTypeCharmm\t    on\n",
    "parameters          parameter\n",
    "\n",
    "# NOTE: Do not set the initial velocity temperature if you \n",
    "# have also specified a .vel restart file!\n",
    "temperature         $temperature\n",
    "\n",
    "# Periodic Boundary Conditions\n",
    "# NOTE: Do not set the periodic cell basis if you have also \n",
    "# specified an .xsc restart file!\n",
    "if {1} { \n",
    "cellBasisVector1     %s    0.   0.\n",
    "cellBasisVector2     0.    %s   0.\n",
    "cellBasisVector3     0.    0.   %s\n",
    "cellOrigin           %s %s %s\n",
    "}\n",
    "wrapWater           on\n",
    "wrapAll             on\n",
    "\n",
    "# Force-Field Parameters\n",
    "exclude             scaled1-4\n",
    "1-4scaling          1.0\n",
    "cutoff              12.\n",
    "switching           on\n",
    "switchdist          10.\n",
    "pairlistdist        13.5\n",
    "\n",
    "# Integrator Parameters\n",
    "timestep            1.0  ;# 1fs/step\n",
    "rigidBonds          all  ;# needed for 2fs steps\n",
    "nonbondedFreq       1\n",
    "fullElectFrequency  2  \n",
    "stepspercycle       20\n",
    "\n",
    "#PME (for full-system periodic electrostatics)\n",
    "if {1} {\n",
    "PME                yes\n",
    "PMEGridSpacing     1.0\n",
    "}\n",
    "\n",
    "# Constant Temperature Control\n",
    "langevin            on    ;# do langevin dynamics\n",
    "langevinDamping     1     ;# damping coefficient (gamma) of 5/ps\n",
    "langevinTemp        $temperature\n",
    "\n",
    "restartfreq        1000     ;# 1000steps = every 2ps\n",
    "dcdfreq            1000\n",
    "xstFreq            1000\n",
    "outputEnergies      50\n",
    "outputPressure      50\n",
    "\n",
    "# Fixed Atoms Constraint (set PDB beta-column to 1)\n",
    "if {1} {\n",
    "fixedAtoms          on\n",
    "fixedAtomsFile      mineq-01.pdb\n",
    "fixedAtomsCol       B\n",
    "fixedAtomsForces    on\n",
    "}\n",
    "\n",
    "#############################################################\n",
    "## EXECUTION SCRIPT                                        ##\n",
    "#############################################################\n",
    "\n",
    "# Minimization\n",
    "if {1} {\n",
    "minimize            1000\n",
    "reinitvels          $temperature\n",
    "}\n",
    "\n",
    "run 500000;# 0.5 ns\n",
    "\"\"\" %(bxsize, bysize,bzsize,bcenx, bceny, bcenz), file=open(\"mineq-01.conf\", \"w\"))"
   ]
  },
  {
   "cell_type": "code",
   "execution_count": 20,
   "metadata": {},
   "outputs": [],
   "source": [
    "csolec=np.unique(plm.get('resid', sel='resname %s and z > 0' %(csolv)))"
   ]
  },
  {
   "cell_type": "markdown",
   "metadata": {},
   "source": [
    "## Calculate Cylinder Radius"
   ]
  },
  {
   "cell_type": "code",
   "execution_count": 21,
   "metadata": {},
   "outputs": [
    {
     "name": "stdout",
     "output_type": "stream",
     "text": [
      "28\n"
     ]
    }
   ],
   "source": [
    "radius=int(math.floor(np.sqrt((xsize*xsize)+(ysize*ysize)))/2)\n",
    "print(radius)"
   ]
  },
  {
   "cell_type": "markdown",
   "metadata": {},
   "source": [
    "## Calculate Cylinder Smaller Radius"
   ]
  },
  {
   "cell_type": "code",
   "execution_count": 22,
   "metadata": {},
   "outputs": [
    {
     "name": "stdout",
     "output_type": "stream",
     "text": [
      "20\n"
     ]
    }
   ],
   "source": [
    "if xsize > ysize:\n",
    "        smallr=int(math.ceil(xsize)/2)\n",
    "else:\n",
    "        smallr=int(math.ceil(ysize)/2)\n",
    "print(smallr)"
   ]
  },
  {
   "cell_type": "code",
   "execution_count": 23,
   "metadata": {},
   "outputs": [
    {
     "name": "stdout",
     "output_type": "stream",
     "text": [
      "30\n"
     ]
    }
   ],
   "source": [
    "bigr=(radius+2)\n",
    "print(bigr)"
   ]
  },
  {
   "cell_type": "markdown",
   "metadata": {},
   "source": [
    "## Create Collective Variable File for Eq02"
   ]
  },
  {
   "cell_type": "code",
   "execution_count": 28,
   "metadata": {},
   "outputs": [],
   "source": [
    "print(\"\"\"\n",
    "Colvarstrajfrequency    50\n",
    "Colvarsrestartfrequency 50\n",
    "\"\"\", file=open(\"cosolvent.col\", \"w\"))\n",
    "\n",
    "for element in csolec:\n",
    "    zio=plm.get(\"serial\",sel=\"resname %s and resid %s and z > 0\" %(csolv,element))\n",
    "    print(\"\"\"\n",
    "    ### Mol n. %s ###\n",
    "    colvar {\n",
    "       name ec_%s\n",
    "       upperboundary %s\n",
    "       upperwallconstant 200.0\n",
    "       lowerboundary 0.0\n",
    "       lowerwallconstant 200.0\n",
    "       distancexy {\n",
    "          ref {\n",
    "             dummyAtom ( 0.000, 0.000, 0.000 )\n",
    "          }\n",
    "          main {\n",
    "             atomNumbers {%s}\n",
    "          }\n",
    "         axis (0.0, 0.0, 1.0)\n",
    "       }\n",
    "    }\n",
    "\n",
    "    colvar {\n",
    "       name ecz_%s\n",
    "       upperboundary %s\n",
    "       lowerboundary 0.0\n",
    "       upperwallconstant 200.0\n",
    "       lowerwallconstant 200.0\n",
    "       distanceZ {\n",
    "          ref {\n",
    "             dummyAtom ( 0.000, 0.000, %s )\n",
    "          }\n",
    "          main {\n",
    "            atomNumbers {%s}\n",
    "          }\n",
    "       }\n",
    "    }\n",
    "\"\"\" %(element,element,radius,str(zio).strip('[]'),element,zheight,zl2,str(zio).strip('[]')), file=open(\"cosolvent.col\", \"a\"))"
   ]
  },
  {
   "cell_type": "markdown",
   "metadata": {},
   "source": [
    "## Create Input File for Eq02"
   ]
  },
  {
   "cell_type": "code",
   "execution_count": 29,
   "metadata": {},
   "outputs": [],
   "source": [
    "print(\"\"\"\n",
    "#############################################################\n",
    "## JOB DESCRIPTION                                         ##\n",
    "#############################################################\n",
    "\n",
    "# Min. and Eq. of Co-Solvent Membrane System\n",
    "# embedded in POPC membrane, ions and water.\n",
    "# Protein constrained. PME, Constant Pressure.\n",
    "\n",
    "#############################################################\n",
    "## ADJUSTABLE PARAMETERS                                   ##\n",
    "#############################################################\n",
    "\n",
    "structure          structure.psf\n",
    "coordinates        structure.pdb\n",
    "\n",
    "outputName         mineq-02\n",
    "\n",
    "set temperature    310\n",
    "\n",
    "# Continuing a job from the restart files\n",
    "if {1} {\n",
    "set inputname      mineq-01\n",
    "binCoordinates     ./$inputname.restart.coor\n",
    "binVelocities      ./$inputname.restart.vel  \n",
    "extendedSystem\t   ./$inputname.restart.xsc\n",
    "} \n",
    "\n",
    "firsttimestep      501000 ;# last step of previous run\n",
    "\n",
    "#############################################################\n",
    "## SIMULATION PARAMETERS                                   ##\n",
    "#############################################################\n",
    "\n",
    "# Input\n",
    "paraTypeCharmm\t    on\n",
    "parameters          parameters\n",
    "\n",
    "wrapWater           on\n",
    "wrapAll             on\n",
    "\n",
    "# Force-Field Parameters\n",
    "exclude             scaled1-4\n",
    "1-4scaling          1.0\n",
    "cutoff              12.\n",
    "switching           on\n",
    "switchdist          10.\n",
    "pairlistdist        13.5\n",
    "\n",
    "# Integrator Parameters\n",
    "timestep            2.0  ;# 2fs/step\n",
    "rigidBonds          all  ;# needed for 2fs steps\n",
    "nonbondedFreq       1\n",
    "fullElectFrequency  2  \n",
    "stepspercycle       20\n",
    "\n",
    "#PME (for full-system periodic electrostatics)\n",
    "if {1} {\n",
    "PME                yes\n",
    "PMEGridSpacing     1.0\n",
    "}\n",
    "\n",
    "# Constant Temperature Control\n",
    "langevin            on    ;# do langevin dynamics\n",
    "langevinDamping     1     ;# damping coefficient (gamma) of 5/ps\n",
    "langevinTemp        $temperature\n",
    "\n",
    "# Constant Pressure Control (variable volume)\n",
    "if {1} {\n",
    "useGroupPressure      yes ;# needed for 2fs steps\n",
    "useFlexibleCell       yes  ;# no for water box, yes for membrane\n",
    "useConstantArea       no  ;# no for water box, yes for membrane\n",
    "\n",
    "langevinPiston        on\n",
    "langevinPistonTarget  1.01325 ;#  in bar -> 1 atm\n",
    "langevinPistonPeriod  200.\n",
    "langevinPistonDecay   50.\n",
    "langevinPistonTemp    $temperature\n",
    "}\n",
    "\n",
    "restartfreq        1000     ;# 1000steps = every 2ps\n",
    "dcdfreq            1000\n",
    "xstFreq            1000\n",
    "outputEnergies      50\n",
    "outputPressure      50\n",
    "\n",
    "#############################################################\n",
    "## EXTRA PARAMETERS                                        ##\n",
    "#############################################################\n",
    "\n",
    "# Put here any custom parameters that are specific to \n",
    "# this job (e.g., SMD, TclForces, etc...)\n",
    "\n",
    "constraints on\n",
    "consexp 2\n",
    "consref ./structure.pdb\n",
    "conskfile mineq-02.pdb       \n",
    "conskcol B\n",
    "margin 3\n",
    "\n",
    "tclforces on\n",
    "set waterCheckFreq              100\n",
    "set lipidCheckFreq              100\n",
    "set allatompdb                  ./structure.pdb\n",
    "tclForcesScript                 keep_water_out.tcl\n",
    "\n",
    "colvars on\n",
    "colvarsConfig cosolvent.col\n",
    "\n",
    "#############################################################\n",
    "## EXECUTION SCRIPT                                        ##\n",
    "#############################################################\n",
    "\n",
    "# Minimization\n",
    "if {1} {\n",
    "minimize            500\n",
    "reinitvels          $temperature\n",
    "}\n",
    "\n",
    "run 1000000 ;# 2.0 ns\n",
    "\n",
    "\"\"\", file=open(\"mineq-02.conf\", \"w\"))"
   ]
  },
  {
   "cell_type": "markdown",
   "metadata": {
    "collapsed": true
   },
   "source": [
    "## Check if there are gaps in the sequence and adjust the CA accordingly"
   ]
  },
  {
   "cell_type": "code",
   "execution_count": 24,
   "metadata": {},
   "outputs": [
    {
     "name": "stderr",
     "output_type": "stream",
     "text": [
      "2021-05-27 16:38:06,430 - htmd.molecule.molecule - INFO - Removed 4813 atoms. 297 atoms remaining in the molecule.\n"
     ]
    },
    {
     "name": "stdout",
     "output_type": "stream",
     "text": [
      "[1 1 1 1 1 1 1 1 1 1 1 1 1 1 1 1 1 1 1 1 1 1 1 1 1 1 1 1 1 1 1 1 1 1 1 1 1\n",
      " 1 1 1 1 1 1 1 1 1 1 1 1 1 1 1 1 1 1 1 1 1 1 1 1 1 1 1 1 1 1 1 1 1 1 1 1 1\n",
      " 1 1 1 1 1 1 1 1 1 1 1 1 1 1 1 1 1 1 1 1 1 1 1 1 1 1 1 1 1 1 1 1 1 1 1 1 1\n",
      " 1 1 1 1 1 1 1 1 1 1 1 1 1 1 1 1 1 1 1 1 1 1 1 1 1 1 1 1 1 1 1 1 1 1 1 1 1\n",
      " 1 1 1 1 1 1 1 1 1 1 1 1 1 1 1 1 1 1 1 1 1 1 1 1 1 1 1 1 1 1 1 1 1 1 1 1 1\n",
      " 1 1 1 1 1 1 1 1 1 1 1 1 1 1 1 1 1 1 1 1 1 1 1 1 1 1 1 1 1 1 1 1 1 1 1 1 1\n",
      " 1 1 1 1 1 1 1 1 1 1 1 1 1 1 1 1 1 1 1 1 1 1 1 1 1 1 1 1 1 1 1 1 1 1 1 1 1\n",
      " 1 1 1 1 1 1 1 1 1 1 1 1 1 1 1 1 1 1 1 1 1 1 1 1 1 1 1 1 1 1 1 1 1 1 1 1 1]\n"
     ]
    }
   ],
   "source": [
    "# Copy cosolvent.col and append a line for the protein\n",
    "dups = prot.copy()                       # Make a working copy\n",
    "dups.filter(\"name CA and protein\")      # Keep only C-alphas\n",
    "rid = dups.get('resid')                 # Get list of residue ids\n",
    "nrid, count= np.unique(rid,return_counts=True) # Get how many times each residue id appeared\n",
    "nrid[count>1]                           # Show duplicates\n",
    "deltas = np.diff(rid)\n",
    "print(deltas)\n",
    "new_rid = rid[:np.size(rid)-1] # no delta for last residue\n",
    "new_rid[deltas!=1]\n",
    "rn = dups.get('resname')\n",
    "for i in range(np.size(rid)-1):\n",
    "    if(deltas[i]>1):\n",
    "        print(rid[i],rn[i],' followed by ',rid[i+1],rn[i+1])\n",
    "        print('%s-%s,'%(rid[i],rid[i+1]))\n",
    "        print('%s-%s,%s-%s'%(rid[0],rid[i],rid[i+1],rid[-1]))\n",
    "        ca=str('%s-%s,%s-%s'%(rid[0],rid[i],rid[i+1],rid[-1]))\n",
    "        print(ca)"
   ]
  },
  {
   "cell_type": "code",
   "execution_count": 25,
   "metadata": {},
   "outputs": [
    {
     "name": "stdout",
     "output_type": "stream",
     "text": [
      "38-334\n"
     ]
    }
   ],
   "source": [
    "ca=('%s-%s'%(nrid[0],nrid[-1]))\n",
    "print(ca)"
   ]
  },
  {
   "cell_type": "markdown",
   "metadata": {},
   "source": [
    "ca=('19-217,376-457')\n",
    "print(ca)"
   ]
  },
  {
   "cell_type": "markdown",
   "metadata": {},
   "source": [
    "## Create Collective Variable File for Eq03"
   ]
  },
  {
   "cell_type": "code",
   "execution_count": 32,
   "metadata": {},
   "outputs": [],
   "source": [
    "shutil.copy2('cosolvent.col', 'cosolvent2.col')\n",
    "print(\"\"\"\n",
    "colvar {\n",
    "  name Origin\n",
    "  distance {\n",
    "     group1 {\n",
    "      psfSegID PRO\n",
    "      atomNameResidueRange CA %s\n",
    "      centerReference on\n",
    "      refPositions (0,0,0)\n",
    "     }\n",
    "     group2 {\n",
    "     dummyAtom (%s,%s,%s)\n",
    "     }\n",
    "  }\n",
    "}\n",
    "\"\"\" %(ca,protcenx,protceny,protcenz), file=open(\"cosolvent2.col\", \"a\"))"
   ]
  },
  {
   "cell_type": "markdown",
   "metadata": {},
   "source": [
    "## Create Input File for Eq03"
   ]
  },
  {
   "cell_type": "code",
   "execution_count": 33,
   "metadata": {},
   "outputs": [],
   "source": [
    "print(\"\"\"\n",
    "#############################################################\n",
    "## JOB DESCRIPTION                                         ##\n",
    "#############################################################\n",
    "\n",
    "# Min. and Eq. of Co-Solvent Membrane System\n",
    "# embedded in POPC membrane, ions and water.\n",
    "# Protein released. PME, Constant Pressure.\n",
    "\n",
    "#############################################################\n",
    "## ADJUSTABLE PARAMETERS                                   ##\n",
    "#############################################################\n",
    "\n",
    "structure          structure.psf\n",
    "coordinates        structure.pdb\n",
    "outputName         eq-03\n",
    "\n",
    "set temperature    310\n",
    "\n",
    "# Continuing a job from the restart files\n",
    "if {1} {\n",
    "set inputname      mineq-02\n",
    "binCoordinates     ./$inputname.restart.coor\n",
    "binVelocities      ./$inputname.restart.vel  \n",
    "extendedSystem\t   ./$inputname.restart.xsc\n",
    "} \n",
    "\n",
    "firsttimestep      1501500 ;# last step of previous run\n",
    "\n",
    "#############################################################\n",
    "## SIMULATION PARAMETERS                                   ##\n",
    "#############################################################\n",
    "\n",
    "# Input\n",
    "paraTypeCharmm\t    on\n",
    "parameters          parameters\n",
    "\n",
    "wrapWater           on\n",
    "wrapAll             on\n",
    "\n",
    "# Force-Field Parameters\n",
    "exclude             scaled1-4\n",
    "1-4scaling          1.0\n",
    "cutoff              12.\n",
    "switching           on\n",
    "switchdist          10.\n",
    "pairlistdist        13.5\n",
    "\n",
    "# Integrator Parameters\n",
    "timestep            2.0  ;# 2fs/step\n",
    "rigidBonds          all  ;# needed for 2fs steps\n",
    "nonbondedFreq       1\n",
    "fullElectFrequency  2  \n",
    "stepspercycle       20\n",
    "\n",
    "#PME (for full-system periodic electrostatics)\n",
    "if {1} {\n",
    "PME                yes\n",
    "PMEGridSpacing     1.0\n",
    "}\n",
    "\n",
    "# Constant Temperature Control\n",
    "langevin            on    ;# do langevin dynamics\n",
    "langevinDamping     1     ;# damping coefficient (gamma) of 5/ps\n",
    "langevinTemp        $temperature\n",
    "\n",
    "# Constant Pressure Control (variable volume)\n",
    "if {1} {\n",
    "useGroupPressure      yes ;# needed for 2fs steps\n",
    "useFlexibleCell       yes  ;# no for water box, yes for membrane\n",
    "useConstantArea       no  ;# no for water box, yes for membrane\n",
    "\n",
    "langevinPiston        on\n",
    "langevinPistonTarget  1.01325 ;#  in bar -> 1 atm\n",
    "langevinPistonPeriod  200.\n",
    "langevinPistonDecay   50.\n",
    "langevinPistonTemp    $temperature\n",
    "}\n",
    "\n",
    "restartfreq        1000     ;# 1000steps = every 2ps\n",
    "dcdfreq            1000\n",
    "xstFreq            1000\n",
    "outputEnergies      50\n",
    "outputPressure      50\n",
    "\n",
    "#############################################################\n",
    "## EXTRA PARAMETERS                                        ##\n",
    "#############################################################\n",
    "\n",
    "# Put here any custom parameters that are specific to \n",
    "# this job (e.g., SMD, TclForces, etc...)\n",
    "\n",
    "colvars on\n",
    "colvarsConfig cosolvent2.col\n",
    "\n",
    "#############################################################\n",
    "## EXECUTION SCRIPT                                        ##\n",
    "#############################################################\n",
    "\n",
    "run 5000000;# 10.0 ns\n",
    "\"\"\", file=open(\"eq-03.conf\", \"w\"))"
   ]
  },
  {
   "cell_type": "code",
   "execution_count": 26,
   "metadata": {},
   "outputs": [
    {
     "name": "stdout",
     "output_type": "stream",
     "text": [
      "35\n"
     ]
    }
   ],
   "source": [
    "bigr2=(bigr+5)\n",
    "print(bigr2)"
   ]
  },
  {
   "cell_type": "code",
   "execution_count": 27,
   "metadata": {},
   "outputs": [
    {
     "name": "stdout",
     "output_type": "stream",
     "text": [
      "20.0000 10.0000\n"
     ]
    }
   ],
   "source": [
    "zheight2=\"10.0000\"\n",
    "print(zheight, zheight2)"
   ]
  },
  {
   "cell_type": "markdown",
   "metadata": {},
   "source": [
    "## Create Collective Variable File for Production"
   ]
  },
  {
   "cell_type": "code",
   "execution_count": 28,
   "metadata": {},
   "outputs": [],
   "source": [
    "print(\"\"\"\n",
    "Colvarstrajfrequency    50\n",
    "Colvarsrestartfrequency 50\n",
    "\"\"\", file=open(\"cosolvent_helices_345_interface.col\", \"w\"))\n",
    "\n",
    "for element in csolec:\n",
    "    zio=plm.get(\"serial\",sel=\"resname %s and resid %s and z > 0\" %(csolv,element))\n",
    "    print(\"\"\"\n",
    "    ### Mol n. %s ###\n",
    "    colvar {\n",
    "       name ec_%s\n",
    "       upperboundary %s\n",
    "       upperwall %s\n",
    "       upperwallconstant 200.0\n",
    "       lowerboundary 10.0\n",
    "       lowerwall 10.0\n",
    "       lowerwallconstant 200.0\n",
    "       distancexy {\n",
    "          ref {\n",
    "             dummyAtom ( 0.000, 0.000, 0.000 )\n",
    "          }\n",
    "          main {\n",
    "             atomNumbers {%s}\n",
    "          }\n",
    "         axis (0.0, 0.0, 1.0)\n",
    "       }\n",
    "    }\n",
    "\n",
    "    colvar {\n",
    "       name ecz_%s\n",
    "       upperboundary %s\n",
    "       lowerboundary 0.0\n",
    "       upperwall %s\n",
    "       upperwallconstant 200.0\n",
    "       distanceZ {\n",
    "          ref {\n",
    "             dummyAtom ( 0.000, 0.000, %s )\n",
    "          }\n",
    "          main {\n",
    "            atomNumbers {%s}\n",
    "          }\n",
    "       }\n",
    "    } \n",
    "    \n",
    "    \"\"\" %(element,element,bigr2,bigr2,str(zio).strip('[]'),element,zheight2,zheight2,zl2,str(zio).strip('[]')), file=open(\"cosolvent345.col\", \"a\"))\n",
    "\n",
    "for element in csolec:\n",
    "    zio=plm.get(\"serial\",sel=\"resname %s and resid %s and z > 0\" %(csolv,element))\n",
    "    print(\"\"\"\n",
    "    ### Collective Variables for Half Cylinder ###\n",
    "    ### Mol n. %s ###\n",
    "    colvar {\n",
    "       name ecx_%s\n",
    "       upperboundary %s\n",
    "       upperwall %s\n",
    "       upperwallconstant 200.0\n",
    "       lowerboundary 10.0\n",
    "       lowerwall 10.0\n",
    "       lowerwallconstant 200.0\n",
    "       distanceZ {\n",
    "          ref {\n",
    "             dummyAtom ( 0.000, 0.000, -%s )\n",
    "          }\n",
    "          main {\n",
    "             atomNumbers {%s}\n",
    "          }\n",
    "         axis (1.0, 0.0, 0.0)\n",
    "       }\n",
    "    }\n",
    "    ### Collective Variables for Sector ###\n",
    "    colvar {\n",
    "       name ecy_%s\n",
    "       upperboundary %s\n",
    "       upperwall %s\n",
    "       lowerboundary 0.0\n",
    "       lowerwall 0.0\n",
    "       upperwallconstant 200.0\n",
    "       lowerwallconstant 200.0\n",
    "       distanceZ {\n",
    "          ref {\n",
    "             dummyAtom ( 0.000, 0.000, 0.000)\n",
    "          }\n",
    "          main {\n",
    "            atomNumbers {%s}\n",
    "          }\n",
    "          axis (0.0, -1.0, 0.0)\n",
    "       }\n",
    "    } \n",
    "    \n",
    "    \"\"\" %(element,element,bigr2,bigr2,bigr2,str(zio).strip('[]'),element,bigr2,bigr2,str(zio).strip('[]')), file=open(\"cosolvent345.col\", \"a\"))\n",
    "print(\"\"\"\n",
    "    colvar {\n",
    "      name Origin\n",
    "      distance {\n",
    "         group1 {\n",
    "          psfSegID PRO\n",
    "          atomNameResidueRange CA %s\n",
    "          centerReference on\n",
    "          refPositions (0,0,0)\n",
    "         }\n",
    "         group2 {\n",
    "         dummyAtom (%s,%s,%s)\n",
    "         }\n",
    "      }\n",
    "    }\n",
    "    \"\"\"%(ca,protcenx,protceny,protcenz), file=open(\"cosolvent_helices_345_interface.col\", \"a\"))"
   ]
  },
  {
   "cell_type": "code",
   "execution_count": 29,
   "metadata": {},
   "outputs": [],
   "source": [
    "print(\"\"\"\n",
    "Colvarstrajfrequency    50\n",
    "Colvarsrestartfrequency 50\n",
    "\"\"\", file=open(\"cosolvent_helices_234_interface.col\", \"w\"))\n",
    "\n",
    "for element in csolec:\n",
    "     zio=plm.get(\"serial\",sel=\"resname %s and resid %s and z > 0\" %(csolv,element))\n",
    "    print(\"\"\"\n",
    "    ### Mol n. %s ###\n",
    "    colvar {\n",
    "       name ec_%s\n",
    "       upperboundary %s\n",
    "       upperwall %s\n",
    "       upperwallconstant 200.0\n",
    "       lowerboundary 10.0\n",
    "       lowerwall 10.0\n",
    "       lowerwallconstant 200.0\n",
    "       distancexy {\n",
    "          ref {\n",
    "             dummyAtom ( 0.000, 0.000, 0.000 )\n",
    "          }\n",
    "          main {\n",
    "             atomNumbers {%s}\n",
    "          }\n",
    "         axis (0.0, 0.0, 1.0)\n",
    "       }\n",
    "    }\n",
    "\n",
    "    colvar {\n",
    "       name ecz_%s\n",
    "       upperboundary %s\n",
    "       lowerboundary 0.0\n",
    "       upperwall %s\n",
    "       upperwallconstant 200.0\n",
    "       distanceZ {\n",
    "          ref {\n",
    "             dummyAtom ( 0.000, 0.000, %s )\n",
    "          }\n",
    "          main {\n",
    "            atomNumbers {%s}\n",
    "          }\n",
    "       }\n",
    "    } \n",
    "    \n",
    "    \"\"\" %(element,element,bigr2,bigr2,str(zio).strip('[]'),element,zheight2,zheight2,zl2,str(zio).strip('[]')), file=open(\"cosolvent234.col\", \"a\"))\n",
    "\n",
    "for element in csolec:\n",
    "    zio=plm.get(\"serial\",sel=\"resname %s and resid %s and z > 0\" %(csolv,element))\n",
    "    print(\"\"\"\n",
    "    ### Collective Variables for Half Cylinder ###\n",
    "    ### Mol n. %s ###\n",
    "    colvar {\n",
    "       name ecx_%s\n",
    "       upperboundary %s\n",
    "       upperwall %s\n",
    "       upperwallconstant 200.0\n",
    "       lowerboundary 10.0\n",
    "       lowerwall 10.0\n",
    "       lowerwallconstant 200.0\n",
    "       distanceZ {\n",
    "          ref {\n",
    "             dummyAtom ( 0.000, 0.000, -%s )\n",
    "          }\n",
    "          main {\n",
    "             atomNumbers {%s}\n",
    "          }\n",
    "         axis (-1.0, 0.0, 0.0)\n",
    "       }\n",
    "    }\n",
    "    ### Collective Variables for Sector ###\n",
    "    colvar {\n",
    "       name ecy_%s\n",
    "       upperboundary %s\n",
    "       upperwall %s\n",
    "       lowerboundary 0.0\n",
    "       lowerwall 0.0\n",
    "       upperwallconstant 200.0\n",
    "       lowerwallconstant 200.0\n",
    "       distanceZ {\n",
    "          ref {\n",
    "             dummyAtom ( 0.000, 0.000, 0.000)\n",
    "          }\n",
    "          main {\n",
    "            atomNumbers {%s}\n",
    "          }\n",
    "          axis (0.0, -1.0, 0.0)\n",
    "       }\n",
    "    } \n",
    "    \n",
    "    \"\"\" %(element,element,bigr2,bigr2,bigr2,str(zio).strip('[]'),element,bigr2,bigr2,str(zio).strip('[]')), file=open(\"cosolvent234.col\", \"a\"))\n",
    "print(\"\"\"\n",
    "    colvar {\n",
    "      name Origin\n",
    "      distance {\n",
    "         group1 {\n",
    "          psfSegID PRO\n",
    "          atomNameResidueRange CA %s\n",
    "          centerReference on\n",
    "          refPositions (0,0,0)\n",
    "         }\n",
    "         group2 {\n",
    "         dummyAtom (%s,%s,%s)\n",
    "         }\n",
    "      }\n",
    "    }\n",
    "    \"\"\"%(ca,protcenx,protceny,protcenz), file=open(\"cosolvent_helices_234_interface.col\", \"a\"))"
   ]
  },
  {
   "cell_type": "code",
   "execution_count": 30,
   "metadata": {},
   "outputs": [],
   "source": [
    "print(\"\"\"\n",
    "Colvarstrajfrequency    50\n",
    "Colvarsrestartfrequency 50\n",
    "\"\"\", file=open(\"cosolvent_helices_67_interface.col\", \"w\"))\n",
    "\n",
    "for element in csolec:\n",
    "    zio=plm.get(\"serial\",sel=\"resname %s and resid %s and z > 0\" %(csolv,element))\n",
    "    print(\"\"\"\n",
    "    ### Mol n. %s ###\n",
    "    colvar {\n",
    "       name ec_%s\n",
    "       upperboundary %s\n",
    "       upperwall %s\n",
    "       upperwallconstant 200.0\n",
    "       lowerboundary 10.0\n",
    "       lowerwall 10.0\n",
    "       lowerwallconstant 200.0\n",
    "       distancexy {\n",
    "          ref {\n",
    "             dummyAtom ( 0.000, 0.000, 0.000 )\n",
    "          }\n",
    "          main {\n",
    "             atomNumbers {%s}\n",
    "          }\n",
    "         axis (0.0, 0.0, 1.0)\n",
    "       }\n",
    "    }\n",
    "\n",
    "    colvar {\n",
    "       name ecz_%s\n",
    "       upperboundary %s\n",
    "       lowerboundary 0.0\n",
    "       upperwall %s\n",
    "       upperwallconstant 200.0\n",
    "       distanceZ {\n",
    "          ref {\n",
    "             dummyAtom ( 0.000, 0.000, %s )\n",
    "          }\n",
    "          main {\n",
    "            atomNumbers {%s}\n",
    "          }\n",
    "       }\n",
    "    } \n",
    "    \n",
    "    \"\"\" %(element,element,bigr2,bigr2,str(zio).strip('[]'),element,zheight2,zheight2,zl2,str(zio).strip('[]')), file=open(\"cosolvent67.col\", \"a\"))\n",
    "\n",
    "for element in csolec:\n",
    "    zio=plm.get(\"serial\",sel=\"resname %s and resid %s and z > 0\" %(csolv,element))\n",
    "    print(\"\"\"\n",
    "    ### Collective Variables for Half Cylinder ###\n",
    "    ### Mol n. %s ###\n",
    "    colvar {\n",
    "       name ecx_%s\n",
    "       upperboundary %s\n",
    "       upperwall %s\n",
    "       upperwallconstant 200.0\n",
    "       lowerboundary -5.0\n",
    "       lowerwall -5.0\n",
    "       lowerwallconstant 200.0\n",
    "       distanceZ {\n",
    "          ref {\n",
    "             dummyAtom ( 0.000, 0.000, -%s )\n",
    "          }\n",
    "          main {\n",
    "             atomNumbers {%s}\n",
    "          }\n",
    "         axis (1.0, 0.0, 0.0)\n",
    "       }\n",
    "    }\n",
    "    ### Collective Variables for Sector ###\n",
    "    colvar {\n",
    "       name ecy_%s\n",
    "       upperboundary %s\n",
    "       upperwall %s\n",
    "       lowerboundary 0.0\n",
    "       lowerwall 0.0\n",
    "       upperwallconstant 200.0\n",
    "       lowerwallconstant 200.0\n",
    "       distanceZ {\n",
    "          ref {\n",
    "             dummyAtom ( 0.000, 0.000, 0.000)\n",
    "          }\n",
    "          main {\n",
    "            atomNumbers {%s}\n",
    "          }\n",
    "          axis (0.0, 1.0, 0.0)\n",
    "       }\n",
    "    } \n",
    "    \n",
    "    \"\"\" %(element,element,bigr2,bigr2,bigr2,str(zio).strip('[]'),element,bigr2,bigr2,str(zio).strip('[]')), file=open(\"cosolvent67.col\", \"a\"))\n",
    "print(\"\"\"\n",
    "    colvar {\n",
    "      name Origin\n",
    "      distance {\n",
    "         group1 {\n",
    "          psfSegID PRO\n",
    "          atomNameResidueRange CA %s\n",
    "          centerReference on\n",
    "          refPositions (0,0,0)\n",
    "         }\n",
    "         group2 {\n",
    "         dummyAtom (%s,%s,%s)\n",
    "         }\n",
    "      }\n",
    "    }\n",
    "    \"\"\"%(ca,protcenx,protceny,protcenz), file=open(\"cosolvent_helices_67_interface.col\", \"a\"))"
   ]
  },
  {
   "cell_type": "markdown",
   "metadata": {},
   "source": [
    "## Create Input File for Production"
   ]
  },
  {
   "cell_type": "code",
   "execution_count": 31,
   "metadata": {},
   "outputs": [],
   "source": [
    "print(\"\"\"\n",
    "#############################################################\n",
    "## JOB DESCRIPTION                                         ##\n",
    "#############################################################\n",
    "\n",
    "# Min. and Eq. of Co-Solvent Membrane System\n",
    "# embedded in POPC membrane, ions and water.\n",
    "# Protein released. PME, Constant Pressure and Area.\n",
    "\n",
    "#############################################################\n",
    "## ADJUSTABLE PARAMETERS                                   ##\n",
    "#############################################################\n",
    "\n",
    "structure          structure.psf\n",
    "coordinates        structure.pdb\n",
    "outputName         run8          \n",
    "\n",
    "set temperature    310\n",
    "\n",
    "# Continuing a job from the restart files\n",
    "if {1} {\n",
    "set inputname      eq-03\n",
    "binCoordinates     ./$inputname.restart.coor\n",
    "binVelocities      ./$inputname.restart.vel  \n",
    "extendedSystem\t   ./$inputname.restart.xsc\n",
    "} \n",
    "\n",
    "firsttimestep      6501500 ;# last step of previous run\n",
    "\n",
    "#############################################################\n",
    "## SIMULATION PARAMETERS                                   ##\n",
    "#############################################################\n",
    "\n",
    "# Input\n",
    "paraTypeCharmm\t    on\n",
    "parameters          parameters_prod\n",
    "parameters          par_P2O.prm\n",
    "\n",
    "wrapWater           on\n",
    "wrapAll             on\n",
    "\n",
    "# Force-Field Parameters\n",
    "exclude             scaled1-4\n",
    "1-4scaling          1.0\n",
    "cutoff              12.\n",
    "switching           on\n",
    "switchdist          10.\n",
    "pairlistdist        13.5\n",
    "\n",
    "# Integrator Parameters\n",
    "timestep            2.0  ;# 2fs/step\n",
    "rigidBonds          all  ;# needed for 2fs steps\n",
    "nonbondedFreq       1\n",
    "fullElectFrequency  2  \n",
    "stepspercycle       20\n",
    "\n",
    "#PME (for full-system periodic electrostatics)\n",
    "if {1} {\n",
    "PME                yes\n",
    "PMEGridSpacing     1.0\n",
    "}\n",
    "\n",
    "# Constant Temperature Control\n",
    "langevin            on    ;# do langevin dynamics\n",
    "langevinDamping     1     ;# damping coefficient (gamma) of 5/ps\n",
    "langevinTemp        $temperature\n",
    "\n",
    "# Constant Pressure Control (variable volume)\n",
    "if {1} {\n",
    "useGroupPressure      yes ;# needed for 2fs steps\n",
    "useFlexibleCell       yes  ;# no for water box, yes for membrane\n",
    "useConstantArea       yes ;# no for water box, yes for membrane\n",
    "\n",
    "langevinPiston        on\n",
    "langevinPistonTarget  1.01325 ;#  in bar -> 1 atm\n",
    "langevinPistonPeriod  200.\n",
    "langevinPistonDecay   50.\n",
    "langevinPistonTemp    $temperature\n",
    "}\n",
    "\n",
    "restartfreq        1000     ;# 1000steps = every 2ps\n",
    "dcdfreq            1000\n",
    "xstFreq            1000\n",
    "outputEnergies      50\n",
    "outputPressure      50\n",
    "\n",
    "#############################################################\n",
    "## EXTRA PARAMETERS                                        ##\n",
    "#############################################################\n",
    "\n",
    "# Put here any custom parameters that are specific to \n",
    "# this job (e.g., SMD, TclForces, etc...)\n",
    "\n",
    "constraints on\n",
    "consexp 2 \n",
    "consref ./structure.pdb\n",
    "conskfile prod.pdb\n",
    "conskcol B\n",
    "margin 3  \n",
    "\n",
    "colvars on\n",
    "colvarsConfig cosolvent3.col\n",
    "\n",
    "#############################################################\n",
    "## EXECUTION SCRIPT                                        ##\n",
    "#############################################################\n",
    "if {1} { \n",
    "  minimize            1800\n",
    "  reinitvels          $temperature\n",
    "  } \n",
    "\n",
    "  run 20000000 ;# 40.0 ns\n",
    "\"\"\",file=open(\"run.conf\", \"w\"))"
   ]
  },
  {
   "cell_type": "markdown",
   "metadata": {},
   "source": [
    "## Print System Specs in a file"
   ]
  },
  {
   "cell_type": "code",
   "execution_count": 32,
   "metadata": {},
   "outputs": [],
   "source": [
    "print(\"\"\"\n",
    "Protein Dimensions: %s %s\n",
    "Cosolvent Boxes Dimensions: %s %s %s\n",
    "Number of Cosolvent Molecules: %s\n",
    "Cell Dimensions: %s %s %s\n",
    "Cell Origin: %s %s %s\n",
    "Protein Center of Mass: %s %s %s\n",
    "Cylinder Radius: %s\n",
    "Cylinder Z Boundary: %s\n",
    "Cylinder Bigger Radius: %s\n",
    "New Cylinder Bigger Radius: %s\n",
    "\"\"\" %(xsize,ysize,intxs,intys,intzs,cnumsol,bxsize,bysize,bzsize,bcenx,bceny,bcenz,protcenx,protceny,protcenz,radius,zl2,bigr,bigr2),file=open(\"system-specs.txt\", \"w\"))"
   ]
  },
  {
   "cell_type": "code",
   "execution_count": null,
   "metadata": {},
   "outputs": [],
   "source": []
  }
 ],
 "metadata": {
  "kernelspec": {
   "display_name": "Python 3",
   "language": "python",
   "name": "python3"
  },
  "language_info": {
   "codemirror_mode": {
    "name": "ipython",
    "version": 3
   },
   "file_extension": ".py",
   "mimetype": "text/x-python",
   "name": "python",
   "nbconvert_exporter": "python",
   "pygments_lexer": "ipython3",
   "version": "3.6.6"
  }
 },
 "nbformat": 4,
 "nbformat_minor": 2
}
