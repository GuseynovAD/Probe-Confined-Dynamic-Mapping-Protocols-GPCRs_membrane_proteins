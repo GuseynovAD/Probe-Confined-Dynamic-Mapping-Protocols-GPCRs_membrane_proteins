{
 "cells": [
  {
   "cell_type": "markdown",
   "metadata": {},
   "source": [
    "## If you use this script for your research, please cite our paper: Ciancetta A, Gill A. K., Ding T., Karlov D.S., McCormick P., Tikhonova I.G. 'Probe Confined Dynamic Mapping for GPCRs Allosteric Site Prediction' eLife, 2021, Submitted."
   ]
  },
  {
   "cell_type": "markdown",
   "metadata": {},
   "source": [
    "## Initialize HTMD"
   ]
  },
  {
   "cell_type": "code",
   "execution_count": 1,
   "metadata": {},
   "outputs": [
    {
     "name": "stdout",
     "output_type": "stream",
     "text": [
      "\n",
      "Please cite HTMD: Doerr et al.(2016)JCTC,12,1845. \n",
      "https://dx.doi.org/10.1021/acs.jctc.6b00049\n",
      "Documentation: http://software.acellera.com/\n",
      "To update: conda update htmd -c acellera -c psi4\n",
      "\n",
      "New devel HTMD version (1.12.2 python[3.6,<3.7.0a0,3.5,<3.6.0a0]) is available. You are currently on (1.9.10). Use 'conda update -c acellera htmd' to update to the new version. You might need to update your python version as well if there is no release for your current version.\n",
      "\n",
      "Deprecation warning: \"from htmd import *\" will be deprecated. \n",
      "To import all HTMD shortcuts please from now on use \"from htmd.ui import *\"\n"
     ]
    }
   ],
   "source": [
    "from htmd.ui import *\n",
    "from htmd.molecule.util import uniformRandomRotation\n",
    "import nglview as nv\n",
    "from nglview.datafiles import PDB, XTC\n",
    "import configparser\n",
    "from itertools import groupby\n",
    "import math\n"
   ]
  },
  {
   "cell_type": "markdown",
   "metadata": {},
   "source": [
    "## Load variables from Input File"
   ]
  },
  {
   "cell_type": "code",
   "execution_count": 2,
   "metadata": {},
   "outputs": [
    {
     "name": "stdout",
     "output_type": "stream",
     "text": [
      "{'name': 'M2_oriented', 'ligname': 'iperoxo', 'lig': 'LIG', 'lipid': 'POPC', 'coname': 'Thieno-23-pyridine', 'pm': '135.18', 'conc': '10', 'csolv': 'THP', 'zoff': '6.000000', 'zheight': '20.0000', 'offset': '1.000000', 'zoffset': '1.000000', 'disu': '96 - 176; 413 - 416'}\n"
     ]
    }
   ],
   "source": [
    "cfg = configparser.RawConfigParser()\n",
    "cfg.read('midas_acemd.cfg')      \n",
    "par=dict(cfg.items(\"Settings\"))\n",
    "for p in par:\n",
    "    par[p]=par[p].split(\"#\",1)[0].strip() # To get rid of inline comments\n",
    "globals().update(par)  #Make them availible globally\n",
    "print (par)"
   ]
  },
  {
   "cell_type": "markdown",
   "metadata": {},
   "source": [
    "## Chek if Packmol Runs"
   ]
  },
  {
   "cell_type": "code",
   "execution_count": 3,
   "metadata": {
    "collapsed": true
   },
   "outputs": [],
   "source": [
    "pmol = shutil.which(\"packmol\", mode=os.X_OK)\n",
    "if not pmol:\n",
    "    raise FileNotFoundError('packmol not found. You should have packmol installed ')"
   ]
  },
  {
   "cell_type": "markdown",
   "metadata": {},
   "source": [
    "## Calculate Cosolvent Box Dimensions"
   ]
  },
  {
   "cell_type": "code",
   "execution_count": 6,
   "metadata": {},
   "outputs": [
    {
     "name": "stdout",
     "output_type": "stream",
     "text": [
      "48.734 33.959 32.308000564575195 52.308000564575195\n"
     ]
    }
   ],
   "source": [
    "mol1 = Molecule(name + '.pdb')\n",
    "#Create variable with protein coordinates\n",
    "#c=mol1.get('coords')\n",
    "c=mol1.get('coords', sel='protein and z > 0')\n",
    "#Calculate minimum and maximum coordinates\n",
    "pmin=np.min(c, axis=0)\n",
    "pmax=np.max(c, axis=0)\n",
    "xmin=pmin[0] \n",
    "xmax=pmax[0] \n",
    "ymin=pmin[1]\n",
    "ymax=pmax[1] \n",
    "zmin=pmin[2]\n",
    "zmax=pmax[2]\n",
    "xsize=xmax-xmin \n",
    "ysize=ymax-ymin\n",
    "zl2=zmax + float(zoff)\n",
    "zl4=zl2+ float(zheight)\n",
    "print(xsize,ysize,zl2,zl4)"
   ]
  },
  {
   "cell_type": "markdown",
   "metadata": {},
   "source": [
    "## Visualize box"
   ]
  },
  {
   "cell_type": "code",
   "execution_count": 5,
   "metadata": {
    "collapsed": true
   },
   "outputs": [],
   "source": [
    "mol1.view('not water', gui=False)\n",
    "b = VMDBox([xmin, xmax, ymin, ymax, zl2, zl4])"
   ]
  },
  {
   "cell_type": "markdown",
   "metadata": {},
   "source": [
    "## Calculate number of water molecules fitting the box"
   ]
  },
  {
   "cell_type": "code",
   "execution_count": 7,
   "metadata": {},
   "outputs": [
    {
     "name": "stderr",
     "output_type": "stream",
     "text": [
      "2018-05-08 17:23:59,004 - htmd.builder.solvate - INFO - Using water pdb file at: /usr/local/miniconda3/lib/python3.6/site-packages/htmd/builder/wat.pdb\n",
      "2018-05-08 17:23:59,489 - htmd.builder.solvate - INFO - Replicating 1 water segments, 1 by 1 by 1\n"
     ]
    },
    {
     "name": "stdout",
     "output_type": "stream",
     "text": [
      "Solvating: 100% (1/1) [############################################] eta --:-- -"
     ]
    },
    {
     "name": "stderr",
     "output_type": "stream",
     "text": [
      "2018-05-08 17:23:59,818 - htmd.builder.solvate - INFO - 1016 water molecules were added to the system.\n"
     ]
    },
    {
     "name": "stdout",
     "output_type": "stream",
     "text": [
      "\n",
      "1016\n"
     ]
    }
   ],
   "source": [
    "#Create a box of soley water molecules\n",
    "smol1 = solvate(mol1, minmax=[[xmin, ymin, zl2],[xmax, ymax, zl4]])\n",
    "smol1.view()\n",
    "#Calculate the number of water molecules fitting the box\n",
    "numwat=len(smol1.get(\"resid\",sel=\"name OH2\"))\n",
    "print(numwat)"
   ]
  },
  {
   "cell_type": "markdown",
   "metadata": {},
   "source": [
    "## Calculate number of cosolvent molecules"
   ]
  },
  {
   "cell_type": "code",
   "execution_count": 8,
   "metadata": {},
   "outputs": [
    {
     "name": "stdout",
     "output_type": "stream",
     "text": [
      "14\n"
     ]
    }
   ],
   "source": [
    "numsol=numwat*18.0528*(int(conc)/100)/float(pm)\n",
    "cnumsol=int(math.ceil(numsol))\n",
    "print(cnumsol)"
   ]
  },
  {
   "cell_type": "markdown",
   "metadata": {},
   "source": [
    "## Calculate Packmol boxes dimensions"
   ]
  },
  {
   "cell_type": "code",
   "execution_count": 9,
   "metadata": {},
   "outputs": [
    {
     "name": "stdout",
     "output_type": "stream",
     "text": [
      "Boxes dimensions: 49 34 20\n"
     ]
    }
   ],
   "source": [
    "intxs=int(math.ceil(float(xsize)))\n",
    "intys=int(math.ceil(float(ysize)))\n",
    "intzs=int(math.ceil(float(zheight)))\n",
    "print(\"Boxes dimensions:\", intxs, intys, intzs)"
   ]
  },
  {
   "cell_type": "markdown",
   "metadata": {},
   "source": [
    "## Creates Input for Packmol"
   ]
  },
  {
   "cell_type": "code",
   "execution_count": 10,
   "metadata": {
    "collapsed": true
   },
   "outputs": [],
   "source": [
    "output1=conc + \"_\" + coname + \"_box\"\n",
    "packs=output1 + \".inp\"\n",
    "print(\"\"\"\n",
    "tolerance 2.5\n",
    "filetype pdb\n",
    "output %s.pdb\n",
    "structure %s.pdb\n",
    "  number %s\n",
    "  inside box 0. 0. 0. %s. %s. %s.\n",
    "end structure\n",
    "\"\"\" %(output1,coname,cnumsol,intxs, intys, intzs), file=open(packs, \"w\"))"
   ]
  },
  {
   "cell_type": "markdown",
   "metadata": {},
   "source": [
    "## Runs packmol and creates cosolvent box at desired concentration"
   ]
  },
  {
   "cell_type": "code",
   "execution_count": 11,
   "metadata": {},
   "outputs": [
    {
     "data": {
      "text/plain": [
       "0"
      ]
     },
     "execution_count": 11,
     "metadata": {},
     "output_type": "execute_result"
    }
   ],
   "source": [
    "os.system(pmol + '<' + packs)"
   ]
  },
  {
   "cell_type": "markdown",
   "metadata": {},
   "source": [
    "## Moves the box to the correct coordinates"
   ]
  },
  {
   "cell_type": "code",
   "execution_count": 12,
   "metadata": {},
   "outputs": [
    {
     "name": "stdout",
     "output_type": "stream",
     "text": [
      "10_Thieno-23-pyridine_box_moved.pdb\n"
     ]
    }
   ],
   "source": [
    "cbox=Molecule(output1 + \".pdb\")\n",
    "movedb=cbox.copy()\n",
    "movedb.moveBy([xmin, ymin , zl2])\n",
    "movedb.view()\n",
    "b = VMDBox([xmin, xmax, ymin, ymax, zl2, zl4])\n",
    "movedb.write(output1 + \"_moved.pdb\")\n",
    "cosolvent=(output1 + \"_moved.pdb\")\n",
    "print(cosolvent)"
   ]
  },
  {
   "cell_type": "markdown",
   "metadata": {},
   "source": [
    "## System Setup"
   ]
  },
  {
   "cell_type": "code",
   "execution_count": 14,
   "metadata": {},
   "outputs": [
    {
     "name": "stderr",
     "output_type": "stream",
     "text": [
      "2018-05-08 17:26:03,394 - htmd.molecule.molecule - INFO - Removed 10611 atoms. 28810 atoms remaining in the molecule.\n",
      "2018-05-08 17:26:03,504 - htmd.molecule.molecule - INFO - Removed 0 atoms. 4556 atoms remaining in the molecule.\n",
      "2018-05-08 17:26:03,532 - htmd.molecule.molecule - INFO - Removed 0 atoms. 4556 atoms remaining in the molecule.\n"
     ]
    }
   ],
   "source": [
    "# System Setup\n",
    "prot=Molecule(name + '.pdb')  #needs CYS HG->HG1\n",
    "prot.set('name','HG1',sel='resname CYS and name HG')\n",
    "#memb=Molecule('step4_lipid.pdb')\n",
    "memb=Molecule('membrane_c36.pdb')\n",
    "memb.filter('resname %s' %(lipid))  \n",
    "prot.set('segid', 'PRO', sel='protein')\n",
    "prot.set('segid', 'W', sel='water')\n",
    "prot.set('segid', 'CA', sel='resname CA')\n",
    "prot.remove('resname ACE')\n",
    "prot.remove('resname NMA')\n",
    "#Add ligand in the receptor\n",
    "lig = Molecule(ligname + '.pdb')\n",
    "lig.set('segid', 'LIG')\n",
    "prot.append(lig)\n",
    "#Add cosolvent box\n",
    "csol = Molecule(cosolvent)\n",
    "csol.set('segid','C1')\n",
    "prot.append(csol)\n",
    "mol2=embed(prot,memb)\n",
    "mol2.view()\n",
    "mol2.write(\"embedded_system.pdb\")"
   ]
  },
  {
   "cell_type": "markdown",
   "metadata": {},
   "source": [
    "## System Solvation"
   ]
  },
  {
   "cell_type": "code",
   "execution_count": 15,
   "metadata": {},
   "outputs": [
    {
     "name": "stderr",
     "output_type": "stream",
     "text": [
      "2018-05-08 17:26:18,899 - htmd.builder.solvate - INFO - Using water pdb file at: /usr/local/miniconda3/lib/python3.6/site-packages/htmd/builder/wat.pdb\n",
      "2018-05-08 17:26:19,529 - htmd.builder.solvate - INFO - Replicating 8 water segments, 2 by 2 by 2\n"
     ]
    },
    {
     "name": "stdout",
     "output_type": "stream",
     "text": [
      "Solvating: 100% (8/8) [############################################] eta 00:00 \\\n"
     ]
    },
    {
     "name": "stderr",
     "output_type": "stream",
     "text": [
      "2018-05-08 17:26:28,415 - htmd.builder.solvate - INFO - 23831 water molecules were added to the system.\n"
     ]
    }
   ],
   "source": [
    "smol2 = solvate(mol2, negz=30, posz=10)\n",
    "smol2.write('solvated_system.pdb')\n",
    "smol2.view()"
   ]
  },
  {
   "cell_type": "markdown",
   "metadata": {},
   "source": [
    "## Print Lig e Csolv Par and Top Filenames"
   ]
  },
  {
   "cell_type": "code",
   "execution_count": 16,
   "metadata": {},
   "outputs": [
    {
     "name": "stdout",
     "output_type": "stream",
     "text": [
      "top_iperoxo.rtf par_iperoxo.prm top_Thieno-23-pyridine.rtf par_Thieno-23-pyridine.prm\n"
     ]
    }
   ],
   "source": [
    "ligt=\"top_\" + ligname + \".rtf\"\n",
    "ligp=\"par_\" + ligname + \".prm\"\n",
    "csolt=\"top_\" + coname + \".rtf\"\n",
    "csolp=\"par_\" + coname + \".prm\"\n",
    "print(ligt, ligp, csolt, csolp)"
   ]
  },
  {
   "cell_type": "markdown",
   "metadata": {},
   "source": [
    "## Create PSF File"
   ]
  },
  {
   "cell_type": "code",
   "execution_count": 17,
   "metadata": {},
   "outputs": [
    {
     "name": "stderr",
     "output_type": "stream",
     "text": [
      "2018-05-08 17:26:42,666 - htmd.builder.charmm - INFO - Writing out segments.\n",
      "2018-05-08 17:26:50,567 - htmd.builder.builder - INFO - 2 disulfide bonds were added\n"
     ]
    },
    {
     "name": "stdout",
     "output_type": "stream",
     "text": [
      "Bond between A: [serial 25560 resid 413 resname CYS chain A segid PRO]\n",
      "             B: [serial 25594 resid 416 resname CYS chain A segid PRO]\n",
      "\n",
      "Bond between A: [serial 22955 resid 96 resname CYS chain A segid PRO]\n",
      "             B: [serial 24250 resid 176 resname CYS chain A segid PRO]\n",
      "\n"
     ]
    },
    {
     "name": "stderr",
     "output_type": "stream",
     "text": [
      "2018-05-08 17:26:50,769 - htmd.builder.charmm - INFO - Starting the build.\n",
      "2018-05-08 17:26:51,481 - htmd.builder.charmm - WARNING - Failed to set coordinates for 4 atoms.\n",
      "2018-05-08 17:26:51,483 - htmd.builder.charmm - WARNING - Failed to guess coordinates for 1 atoms due to bad angles.\n",
      "2018-05-08 17:26:51,484 - htmd.builder.charmm - WARNING - Poorly guessed coordinates for 13 atoms.\n",
      "2018-05-08 17:26:51,485 - htmd.builder.charmm - WARNING - Please check /home/antonella/20180508_M2_THP_Ago_New/build/log.txt for further information.\n",
      "2018-05-08 17:26:51,486 - htmd.builder.charmm - INFO - Finished building.\n",
      "2018-05-08 17:26:54,418 - htmd.builder.ionize - INFO - Adding 12 anions + 0 cations for neutralizing and 138 ions for the given salt concentration.\n",
      "2018-05-08 17:26:54,752 - htmd.builder.ionize - INFO - Min distance of ions from molecule: 5A\n",
      "2018-05-08 17:26:54,753 - htmd.builder.ionize - INFO - Min distance between ions: 5A\n",
      "2018-05-08 17:26:54,754 - htmd.builder.ionize - INFO - Placing 150 ions.\n",
      "2018-05-08 17:27:45,144 - htmd.builder.charmm - INFO - Writing out segments.\n",
      "2018-05-08 17:27:53,453 - htmd.builder.charmm - INFO - Starting the build.\n",
      "2018-05-08 17:27:54,135 - htmd.builder.charmm - WARNING - Failed to set coordinates for 4 atoms.\n",
      "2018-05-08 17:27:54,137 - htmd.builder.charmm - WARNING - Failed to guess coordinates for 1 atoms due to bad angles.\n",
      "2018-05-08 17:27:54,138 - htmd.builder.charmm - WARNING - Poorly guessed coordinates for 13 atoms.\n",
      "2018-05-08 17:27:54,139 - htmd.builder.charmm - WARNING - Please check /home/antonella/20180508_M2_THP_Ago_New/build/log.txt for further information.\n",
      "2018-05-08 17:27:54,140 - htmd.builder.charmm - INFO - Finished building.\n"
     ]
    }
   ],
   "source": [
    "ds = [ DisulfideBridge('P',96,'P',176), DisulfideBridge('P',413,'P',416)] ##M2 receptor\n",
    "topos  = [ligt, csolt,'top/top_all36_prot.rtf','top/top_all36_cgenff.rtf','top/top_all36_lipid.rtf','top/top_water_ions.rtf']\n",
    "params = [ligp, csolp,'par/par_all36_prot.prm','par/par_all36_cgenff.prm','par/par_all36_lipid.prm','par/par_water_ions.prm']\n",
    "plm = charmm.build(smol2, topo=topos, param=params,outdir='build',ionize=True,saltconc=0.154,saltanion='CLA',saltcation='SOD')"
   ]
  },
  {
   "cell_type": "markdown",
   "metadata": {},
   "source": [
    "## View System"
   ]
  },
  {
   "cell_type": "code",
   "execution_count": 18,
   "metadata": {
    "collapsed": true
   },
   "outputs": [],
   "source": [
    "plm.view()"
   ]
  },
  {
   "cell_type": "markdown",
   "metadata": {},
   "source": [
    "## Measure Cell Dimensions"
   ]
  },
  {
   "cell_type": "code",
   "execution_count": 19,
   "metadata": {},
   "outputs": [
    {
     "name": "stdout",
     "output_type": "stream",
     "text": [
      "92.906 93.597 126.022\n"
     ]
    }
   ],
   "source": [
    "boxc=plm.get('coords')\n",
    "bpmin=np.min(boxc, axis=0)\n",
    "bpmax=np.max(boxc, axis=0)\n",
    "bxmin=bpmin[0] \n",
    "bxmax=bpmax[0] \n",
    "bymin=bpmin[1]\n",
    "bymax=bpmax[1] \n",
    "bzmin=bpmin[2]\n",
    "bzmax=bpmax[2]\n",
    "bxsize=bxmax-bxmin \n",
    "bysize=bymax-bymin\n",
    "bzsize=bzmax-bzmin\n",
    "print(bxsize,bysize,bzsize)"
   ]
  },
  {
   "cell_type": "markdown",
   "metadata": {},
   "source": [
    "## Measure Cell Origin"
   ]
  },
  {
   "cell_type": "code",
   "execution_count": 20,
   "metadata": {
    "scrolled": true
   },
   "outputs": [
    {
     "name": "stdout",
     "output_type": "stream",
     "text": [
      "[-4.139481  -2.5611055 -3.8518307]\n",
      "-4.139481 -2.5611055 -3.8518307\n"
     ]
    }
   ],
   "source": [
    "bcen=np.average(boxc, axis=0)\n",
    "print(bcen)\n",
    "bcenx=bcen[0]\n",
    "bceny=bcen[1]\n",
    "bcenz=bcen[2]\n",
    "print(bcenx,bceny,bcenz)"
   ]
  },
  {
   "cell_type": "markdown",
   "metadata": {},
   "source": [
    "## Measure Protein Mass Center"
   ]
  },
  {
   "cell_type": "code",
   "execution_count": 21,
   "metadata": {},
   "outputs": [
    {
     "name": "stdout",
     "output_type": "stream",
     "text": [
      "[12.011  1.008  1.008 ...  1.008  1.008  1.008]\n",
      "[-0.5908355   0.15096302 -5.183493  ]\n",
      "-0.5908355 0.15096302 -5.183493\n"
     ]
    }
   ],
   "source": [
    "protc=plm.get('coords', sel='protein')\n",
    "protm=plm.get('masses', sel='protein')\n",
    "print(protm)\n",
    "protcm=np.average(protc, axis=0, weights=protm)\n",
    "print(protcm)\n",
    "protcenx=protcm[0]\n",
    "protceny=protcm[1]\n",
    "protcenz=protcm[2]\n",
    "print(protcenx,protceny,protcenz)"
   ]
  },
  {
   "cell_type": "markdown",
   "metadata": {},
   "source": [
    "## Create Constraints for Eq01"
   ]
  },
  {
   "cell_type": "code",
   "execution_count": 26,
   "metadata": {
    "scrolled": true
   },
   "outputs": [
    {
     "name": "stdout",
     "output_type": "stream",
     "text": [
      "Molecule with 31 atoms and 1 frames\n",
      "Atom field - altloc shape: (31,)\n",
      "Atom field - atomtype shape: (31,)\n",
      "Atom field - beta shape: (31,)\n",
      "Atom field - chain shape: (31,)\n",
      "Atom field - charge shape: (31,)\n",
      "Atom field - coords shape: (31, 3, 1)\n",
      "Atom field - element shape: (31,)\n",
      "Atom field - insertion shape: (31,)\n",
      "Atom field - masses shape: (31,)\n",
      "Atom field - name shape: (31,)\n",
      "Atom field - occupancy shape: (31,)\n",
      "Atom field - record shape: (31,)\n",
      "Atom field - resid shape: (31,)\n",
      "Atom field - resname shape: (31,)\n",
      "Atom field - segid shape: (31,)\n",
      "Atom field - serial shape: (31,)\n",
      "angles shape: (0, 3)\n",
      "bonds shape: (68, 2)\n",
      "bondtype shape: (0,)\n",
      "box shape: (3, 1)\n",
      "boxangles shape: (3, 1)\n",
      "crystalinfo: {'a': 59.032, 'b': 77.399, 'c': 163.822, 'alpha': 90.0, 'beta': 90.0, 'gamma': 90.0, 'sGroup': ['P', '21', '21', '21'], 'z': 4}\n",
      "dihedrals shape: (0, 4)\n",
      "fileloc shape: (1, 2)\n",
      "impropers shape: (0, 4)\n",
      "reps: \n",
      "ssbonds shape: (0,)\n",
      "step shape: (1,)\n",
      "time shape: (1,)\n",
      "topoloc: /home/antonella/20180508_M2_THP_Ago_New/iperoxo.pdb\n",
      "viewname: iperoxo.pdb\n",
      "{'name': 'M2_oriented', 'ligname': 'iperoxo', 'lig': 'LIG', 'lipid': 'POPC', 'coname': 'Thieno-23-pyridine', 'pm': '135.18', 'conc': '10', 'csolv': 'THP', 'zoff': '6.000000', 'zheight': '20.0000', 'offset': '1.000000', 'zoffset': '1.000000', 'disu': '96 - 176; 413 - 416'}\n",
      "LIG\n"
     ]
    }
   ],
   "source": [
    "print(lig)\n",
    "cfg = configparser.RawConfigParser()\n",
    "cfg.read('midas_acemd.cfg')       \n",
    "par=dict(cfg.items(\"Settings\"))\n",
    "for p in par:\n",
    "    par[p]=par[p].split(\"#\",1)[0].strip() # To get rid of inline comments\n",
    "globals().update(par)  #Make them availible globally\n",
    "print (par)\n",
    "print(lig)"
   ]
  },
  {
   "cell_type": "code",
   "execution_count": 27,
   "metadata": {},
   "outputs": [],
   "source": [
    "plm.set('beta', '1', sel='resname %s or resname %s or water or ions or protein or (resname %s and name P O11 O12 O13 O14 C11 C12 C13 C14 C15 H11A H11B H12A H12B H13A H13B H13C H14A H14B H14C H15A H15B H15C)' %(lig,csolv,lipid))\n",
    "plm.write('mineq-01.pdb')"
   ]
  },
  {
   "cell_type": "markdown",
   "metadata": {},
   "source": [
    "## Create Constraints for Eq02"
   ]
  },
  {
   "cell_type": "code",
   "execution_count": 28,
   "metadata": {
    "collapsed": true
   },
   "outputs": [],
   "source": [
    "plm.set('beta', '0', sel='all')\n",
    "plm.set('beta', '1', sel='resname %s or protein' %(lig))\n",
    "plm.write('mineq-02.pdb')"
   ]
  },
  {
   "cell_type": "markdown",
   "metadata": {},
   "source": [
    "## Create Constraints for Prod"
   ]
  },
  {
   "cell_type": "code",
   "execution_count": 29,
   "metadata": {
    "collapsed": true
   },
   "outputs": [],
   "source": [
    "plm.set('beta', '0', sel='all')\n",
    "plm.set('beta', '1', sel='protein and name CA and z > -5 and z < 5')\n",
    "plm.write('prod.pdb')"
   ]
  },
  {
   "cell_type": "markdown",
   "metadata": {},
   "source": [
    "## Create Input File for Eq01"
   ]
  },
  {
   "cell_type": "code",
   "execution_count": 30,
   "metadata": {
    "collapsed": true
   },
   "outputs": [],
   "source": [
    "print(\"\"\"\n",
    "#############################################################\n",
    "## JOB DESCRIPTION                                         ##\n",
    "#############################################################\n",
    "\n",
    "# Min. and Eq. of Co-Solvent Membrane System\n",
    "# embedded in POPC membrane, ions and water.\n",
    "# Melting lipid tails. PME, Constant Volume.\n",
    "\n",
    "#############################################################\n",
    "## ADJUSTABLE PARAMETERS                                   ##\n",
    "#############################################################\n",
    "\n",
    "structure          structure.psf\n",
    "coordinates        structure.pdb\n",
    "outputName         mineq-01\n",
    "\n",
    "set temperature    310\n",
    "\n",
    "firsttimestep      0\n",
    "\n",
    "#############################################################\n",
    "## SIMULATION PARAMETERS                                   ##\n",
    "#############################################################\n",
    "# Input\n",
    "paraTypeCharmm\t    on\n",
    "parameters          parameters\n",
    "\n",
    "# NOTE: Do not set the initial velocity temperature if you \n",
    "# have also specified a .vel restart file!\n",
    "temperature         $temperature\n",
    "\n",
    "# Periodic Boundary Conditions\n",
    "# NOTE: Do not set the periodic cell basis if you have also \n",
    "# specified an .xsc restart file!\n",
    "if {1} { \n",
    "cellBasisVector1     %s    0.   0.\n",
    "cellBasisVector2     0.    %s   0.\n",
    "cellBasisVector3     0.    0.   %s\n",
    "cellOrigin           %s %s %s\n",
    "}\n",
    "wrapWater           on\n",
    "wrapAll             on\n",
    "\n",
    "# Force-Field Parameters\n",
    "exclude             scaled1-4\n",
    "1-4scaling          1.0\n",
    "cutoff              12.\n",
    "switching           on\n",
    "switchdist          10.\n",
    "pairlistdist        13.5\n",
    "\n",
    "# Integrator Parameters\n",
    "timestep            1.0  ;# 1fs/step\n",
    "rigidBonds          all  ;# needed for 2fs steps\n",
    "nonbondedFreq       1\n",
    "fullElectFrequency  2  \n",
    "stepspercycle       20\n",
    "\n",
    "#PME (for full-system periodic electrostatics)\n",
    "if {1} {\n",
    "PME                yes\n",
    "PMEGridSpacing     1.0\n",
    "}\n",
    "\n",
    "# Constant Temperature Control\n",
    "langevin            on    ;# do langevin dynamics\n",
    "langevinDamping     1     ;# damping coefficient (gamma) of 5/ps\n",
    "langevinTemp        $temperature\n",
    "\n",
    "restartfreq        1000     ;# 1000steps = every 2ps\n",
    "dcdfreq            1000\n",
    "xstFreq            1000\n",
    "outputEnergies      50\n",
    "outputPressure      50\n",
    "\n",
    "# Fixed Atoms Constraint (set PDB beta-column to 1)\n",
    "if {1} {\n",
    "fixedAtoms          on\n",
    "fixedAtomsFile      mineq-01.pdb\n",
    "fixedAtomsCol       B\n",
    "fixedAtomsForces    on\n",
    "}\n",
    "\n",
    "#############################################################\n",
    "## EXECUTION SCRIPT                                        ##\n",
    "#############################################################\n",
    "\n",
    "# Minimization\n",
    "if {1} {\n",
    "minimize            1000\n",
    "reinitvels          $temperature\n",
    "}\n",
    "\n",
    "run 500000;# 0.5 ns\n",
    "\"\"\" %(bxsize, bysize,bzsize,bcenx, bceny, bcenz), file=open(\"mineq-01.conf\", \"w\"))"
   ]
  },
  {
   "cell_type": "code",
   "execution_count": 31,
   "metadata": {
    "collapsed": true
   },
   "outputs": [],
   "source": [
    "csolec=np.unique(plm.get('resid', sel='resname %s and z > 0' %(csolv)))"
   ]
  },
  {
   "cell_type": "markdown",
   "metadata": {},
   "source": [
    "## Calculate Cylinder Radius"
   ]
  },
  {
   "cell_type": "code",
   "execution_count": 32,
   "metadata": {},
   "outputs": [
    {
     "name": "stdout",
     "output_type": "stream",
     "text": [
      "29\n"
     ]
    }
   ],
   "source": [
    "radius=int(math.floor(np.sqrt((xsize*xsize)+(ysize*ysize)))/2)\n",
    "print(radius)"
   ]
  },
  {
   "cell_type": "markdown",
   "metadata": {},
   "source": [
    "## Calculate Cylinder Smaller Radius"
   ]
  },
  {
   "cell_type": "code",
   "execution_count": 33,
   "metadata": {},
   "outputs": [
    {
     "name": "stdout",
     "output_type": "stream",
     "text": [
      "24\n"
     ]
    }
   ],
   "source": [
    "if xsize > ysize:\n",
    "        smallr=int(math.ceil(xsize)/2)\n",
    "else:\n",
    "        smallr=int(math.ceil(ysize)/2)\n",
    "print(smallr)"
   ]
  },
  {
   "cell_type": "markdown",
   "metadata": {},
   "source": [
    "## Create Collective Variable File for Eq02"
   ]
  },
  {
   "cell_type": "code",
   "execution_count": 34,
   "metadata": {
    "collapsed": true
   },
   "outputs": [],
   "source": [
    "print(\"\"\"\n",
    "Colvarstrajfrequency    50\n",
    "Colvarsrestartfrequency 50\n",
    "\"\"\", file=open(\"cosolvent.col\", \"w\"))\n",
    "\n",
    "for element in csolec:    \n",
    "    zio=plm.get(\"serial\",sel=\"resname %s and resid %s and z > 0\" %(csolv,element))\n",
    "    print(\"\"\"\n",
    "    ### Mol n. %s ###\n",
    "    colvar {\n",
    "       name ec_%s\n",
    "       upperboundary %s\n",
    "       upperwallconstant 200.0\n",
    "       lowerboundary 0.0\n",
    "       lowerwallconstant 200.0\n",
    "       distancexy {\n",
    "          ref {\n",
    "             dummyAtom ( 0.000, 0.000, 0.000 )\n",
    "          }\n",
    "          main {\n",
    "             atomNumbers {%s}\n",
    "          }\n",
    "         axis (0.0, 0.0, 1.0)\n",
    "       }\n",
    "    }\n",
    "\n",
    "    colvar {\n",
    "       name ecz_%s\n",
    "       upperboundary %s\n",
    "       lowerboundary 0.0\n",
    "       upperwallconstant 200.0\n",
    "       lowerwallconstant 200.0\n",
    "       distanceZ {\n",
    "          ref {\n",
    "             dummyAtom ( 0.000, 0.000, %s )\n",
    "          }\n",
    "          main {\n",
    "            atomNumbers {%s}\n",
    "          }\n",
    "       }\n",
    "    }\n",
    "\"\"\" %(element,element,radius,str(zio).strip('[]'),element,zheight,zl2,str(zio).strip('[]')), file=open(\"cosolvent.col\", \"a\"))"
   ]
  },
  {
   "cell_type": "markdown",
   "metadata": {},
   "source": [
    "## Create Input File for Eq02"
   ]
  },
  {
   "cell_type": "code",
   "execution_count": 35,
   "metadata": {
    "collapsed": true
   },
   "outputs": [],
   "source": [
    "print(\"\"\"\n",
    "#############################################################\n",
    "## JOB DESCRIPTION                                         ##\n",
    "#############################################################\n",
    "\n",
    "# Min. and Eq. of Co-Solvent Membrane System\n",
    "# embedded in POPC membrane, ions and water.\n",
    "# Protein constrained. PME, Constant Pressure.\n",
    "\n",
    "#############################################################\n",
    "## ADJUSTABLE PARAMETERS                                   ##\n",
    "#############################################################\n",
    "\n",
    "structure          structure.psf\n",
    "coordinates        structure.pdb\n",
    "\n",
    "outputName         mineq-02\n",
    "\n",
    "set temperature    310\n",
    "\n",
    "# Continuing a job from the restart files\n",
    "if {1} {\n",
    "set inputname      mineq-01\n",
    "binCoordinates     ./$inputname.restart.coor\n",
    "binVelocities      ./$inputname.restart.vel  \n",
    "extendedSystem\t   ./$inputname.restart.xsc\n",
    "} \n",
    "\n",
    "firsttimestep      501000 ;# last step of previous run\n",
    "\n",
    "#############################################################\n",
    "## SIMULATION PARAMETERS                                   ##\n",
    "#############################################################\n",
    "\n",
    "# Input\n",
    "paraTypeCharmm\t    on\n",
    "parameters          parameters\n",
    "\n",
    "wrapWater           on\n",
    "wrapAll             on\n",
    "\n",
    "# Force-Field Parameters\n",
    "exclude             scaled1-4\n",
    "1-4scaling          1.0\n",
    "cutoff              12.\n",
    "switching           on\n",
    "switchdist          10.\n",
    "pairlistdist        13.5\n",
    "\n",
    "# Integrator Parameters\n",
    "timestep            2.0  ;# 2fs/step\n",
    "rigidBonds          all  ;# needed for 2fs steps\n",
    "nonbondedFreq       1\n",
    "fullElectFrequency  2  \n",
    "stepspercycle       20\n",
    "\n",
    "#PME (for full-system periodic electrostatics)\n",
    "if {1} {\n",
    "PME                yes\n",
    "PMEGridSpacing     1.0\n",
    "}\n",
    "\n",
    "# Constant Temperature Control\n",
    "langevin            on    ;# do langevin dynamics\n",
    "langevinDamping     1     ;# damping coefficient (gamma) of 5/ps\n",
    "langevinTemp        $temperature\n",
    "\n",
    "# Constant Pressure Control (variable volume)\n",
    "if {1} {\n",
    "useGroupPressure      yes ;# needed for 2fs steps\n",
    "useFlexibleCell       yes  ;# no for water box, yes for membrane\n",
    "useConstantArea       no  ;# no for water box, yes for membrane\n",
    "\n",
    "langevinPiston        on\n",
    "langevinPistonTarget  1.01325 ;#  in bar -> 1 atm\n",
    "langevinPistonPeriod  200.\n",
    "langevinPistonDecay   50.\n",
    "langevinPistonTemp    $temperature\n",
    "}\n",
    "\n",
    "restartfreq        1000     ;# 1000steps = every 2ps\n",
    "dcdfreq            1000\n",
    "xstFreq            1000\n",
    "outputEnergies      50\n",
    "outputPressure      50\n",
    "\n",
    "#############################################################\n",
    "## EXTRA PARAMETERS                                        ##\n",
    "#############################################################\n",
    "\n",
    "# Put here any custom parameters that are specific to \n",
    "# this job (e.g., SMD, TclForces, etc...)\n",
    "\n",
    "constraints on\n",
    "consexp 2\n",
    "consref ./structure.pdb\n",
    "conskfile mineq-02.pdb       \n",
    "conskcol B\n",
    "margin 3\n",
    "\n",
    "tclforces on\n",
    "set waterCheckFreq              100\n",
    "set lipidCheckFreq              100\n",
    "set allatompdb                  ./structure.pdb\n",
    "tclForcesScript                 keep_water_out.tcl\n",
    "\n",
    "colvars on\n",
    "colvarsConfig cosolvent.col\n",
    "\n",
    "#############################################################\n",
    "## EXECUTION SCRIPT                                        ##\n",
    "#############################################################\n",
    "\n",
    "# Minimization\n",
    "if {1} {\n",
    "minimize            500\n",
    "reinitvels          $temperature\n",
    "}\n",
    "\n",
    "run 1000000 ;# 2.0 ns\n",
    "\n",
    "\"\"\", file=open(\"mineq-02.conf\", \"w\"))"
   ]
  },
  {
   "cell_type": "markdown",
   "metadata": {
    "collapsed": true
   },
   "source": [
    "## Check if there are gaps in the sequence and adjust the CA accordingly"
   ]
  },
  {
   "cell_type": "code",
   "execution_count": 36,
   "metadata": {},
   "outputs": [
    {
     "name": "stderr",
     "output_type": "stream",
     "text": [
      "2018-05-08 17:37:06,522 - htmd.molecule.molecule - INFO - Removed 4502 atoms. 281 atoms remaining in the molecule.\n"
     ]
    },
    {
     "name": "stdout",
     "output_type": "stream",
     "text": [
      "[  1   1   1   1   1   1   1   1   1   1   1   1   1   1   1   1   1   1\n",
      "   1   1   1   1   1   1   1   1   1   1   1   1   1   1   1   1   1   1\n",
      "   1   1   1   1   1   1   1   1   1   1   1   1   1   1   1   1   1   1\n",
      "   1   1   1   1   1   1   1   1   1   1   1   1   1   1   1   1   1   1\n",
      "   1   1   1   1   1   1   1   1   1   1   1   1   1   1   1   1   1   1\n",
      "   1   1   1   1   1   1   1   1   1   1   1   1   1   1   1   1   1   1\n",
      "   1   1   1   1   1   1   1   1   1   1   1   1   1   1   1   1   1   1\n",
      "   1   1   1   1   1   1   1   1   1   1   1   1   1   1   1   1   1   1\n",
      "   1   1   1   1   1   1   1   1   1   1   1   1   1   1   1   1   1   1\n",
      "   1   1   1   1   1   1   1   1   1   1   1   1   1   1   1   1   1   1\n",
      "   1   1   1   1   1   1   1   1   1   1   1   1   1   1   1   1   1   1\n",
      " 159   1   1   1   1   1   1   1   1   1   1   1   1   1   1   1   1   1\n",
      "   1   1   1   1   1   1   1   1   1   1   1   1   1   1   1   1   1   1\n",
      "   1   1   1   1   1   1   1   1   1   1   1   1   1   1   1   1   1   1\n",
      "   1   1   1   1   1   1   1   1   1   1   1   1   1   1   1   1   1   1\n",
      "   1   1   1   1   1   1   1   1   1   1]\n",
      "217 ILE  followed by  376 LYS\n",
      "217-376,\n",
      "19-217,376-457\n",
      "19-217,376-457\n"
     ]
    }
   ],
   "source": [
    "# Copy cosolvent.col and append a line for the protein\n",
    "dups = prot.copy()                       # Make a working copy\n",
    "dups.filter(\"name CA and protein\")      # Keep only C-alphas\n",
    "rid = dups.get('resid')                 # Get list of residue ids\n",
    "nrid, count= np.unique(rid,return_counts=True) # Get how many times each residue id appeared\n",
    "nrid[count>1]                           # Show duplicates\n",
    "deltas = np.diff(rid)\n",
    "print(deltas)\n",
    "new_rid = rid[:np.size(rid)-1] # no delta for last residue\n",
    "new_rid[deltas!=1]\n",
    "# Iterate over all residues (excluding last one)\n",
    "rn = dups.get('resname')\n",
    "for i in range(np.size(rid)-1):\n",
    "    if(deltas[i]>1):\n",
    "        print(rid[i],rn[i],' followed by ',rid[i+1],rn[i+1])\n",
    "        print('%s-%s,'%(rid[i],rid[i+1]))\n",
    "        print('%s-%s,%s-%s'%(rid[0],rid[i],rid[i+1],rid[-1]))\n",
    "        ca=str('%s-%s,%s-%s'%(rid[0],rid[i],rid[i+1],rid[-1]))\n",
    "        print(ca)"
   ]
  },
  {
   "cell_type": "code",
   "execution_count": 37,
   "metadata": {},
   "outputs": [
    {
     "name": "stdout",
     "output_type": "stream",
     "text": [
      "19-457\n"
     ]
    }
   ],
   "source": [
    "ca=('%s-%s'%(nrid[0],nrid[-1]))\n",
    "print(ca)"
   ]
  },
  {
   "cell_type": "code",
   "execution_count": 38,
   "metadata": {},
   "outputs": [
    {
     "name": "stdout",
     "output_type": "stream",
     "text": [
      "19-217,376-457\n"
     ]
    }
   ],
   "source": [
    "ca=('19-217,376-457')\n",
    "print(ca)"
   ]
  },
  {
   "cell_type": "markdown",
   "metadata": {},
   "source": [
    "## Create Collective Variable File for Eq03"
   ]
  },
  {
   "cell_type": "code",
   "execution_count": 39,
   "metadata": {
    "collapsed": true
   },
   "outputs": [],
   "source": [
    "shutil.copy2('cosolvent.col', 'cosolvent2.col')\n",
    "print(\"\"\"\n",
    "colvar {\n",
    "  name Origin\n",
    "  distance {\n",
    "     group1 {\n",
    "      psfSegID PRO\n",
    "      atomNameResidueRange CA %s\n",
    "      centerReference on\n",
    "      refPositions (0,0,0)\n",
    "     }\n",
    "     group2 {\n",
    "     dummyAtom (%s,%s,%s)\n",
    "     }\n",
    "  }\n",
    "}\n",
    "\"\"\" %(ca,protcenx,protceny,protcenz), file=open(\"cosolvent2.col\", \"a\"))"
   ]
  },
  {
   "cell_type": "markdown",
   "metadata": {},
   "source": [
    "## Create Input File for Eq03"
   ]
  },
  {
   "cell_type": "code",
   "execution_count": 40,
   "metadata": {
    "collapsed": true
   },
   "outputs": [],
   "source": [
    "print(\"\"\"\n",
    "#############################################################\n",
    "## JOB DESCRIPTION                                         ##\n",
    "#############################################################\n",
    "\n",
    "# Min. and Eq. of Co-Solvent Membrane System\n",
    "# embedded in POPC membrane, ions and water.\n",
    "# Protein released. PME, Constant Pressure.\n",
    "\n",
    "#############################################################\n",
    "## ADJUSTABLE PARAMETERS                                   ##\n",
    "#############################################################\n",
    "\n",
    "structure          structure.psf\n",
    "coordinates        structure.pdb\n",
    "outputName         eq-03\n",
    "\n",
    "set temperature    310\n",
    "\n",
    "# Continuing a job from the restart files\n",
    "if {1} {\n",
    "set inputname      mineq-02\n",
    "binCoordinates     ./$inputname.restart.coor\n",
    "binVelocities      ./$inputname.restart.vel  \n",
    "extendedSystem\t   ./$inputname.restart.xsc\n",
    "} \n",
    "\n",
    "firsttimestep      1501500 ;# last step of previous run\n",
    "\n",
    "#############################################################\n",
    "## SIMULATION PARAMETERS                                   ##\n",
    "#############################################################\n",
    "\n",
    "# Input\n",
    "paraTypeCharmm\t    on\n",
    "parameters          parameters\n",
    "\n",
    "wrapWater           on\n",
    "wrapAll             on\n",
    "\n",
    "# Force-Field Parameters\n",
    "exclude             scaled1-4\n",
    "1-4scaling          1.0\n",
    "cutoff              12.\n",
    "switching           on\n",
    "switchdist          10.\n",
    "pairlistdist        13.5\n",
    "\n",
    "# Integrator Parameters\n",
    "timestep            2.0  ;# 2fs/step\n",
    "rigidBonds          all  ;# needed for 2fs steps\n",
    "nonbondedFreq       1\n",
    "fullElectFrequency  2  \n",
    "stepspercycle       20\n",
    "\n",
    "#PME (for full-system periodic electrostatics)\n",
    "if {1} {\n",
    "PME                yes\n",
    "PMEGridSpacing     1.0\n",
    "}\n",
    "\n",
    "# Constant Temperature Control\n",
    "langevin            on    ;# do langevin dynamics\n",
    "langevinDamping     1     ;# damping coefficient (gamma) of 5/ps\n",
    "langevinTemp        $temperature\n",
    "\n",
    "# Constant Pressure Control (variable volume)\n",
    "if {1} {\n",
    "useGroupPressure      yes ;# needed for 2fs steps\n",
    "useFlexibleCell       yes  ;# no for water box, yes for membrane\n",
    "useConstantArea       no  ;# no for water box, yes for membrane\n",
    "\n",
    "langevinPiston        on\n",
    "langevinPistonTarget  1.01325 ;#  in bar -> 1 atm\n",
    "langevinPistonPeriod  200.\n",
    "langevinPistonDecay   50.\n",
    "langevinPistonTemp    $temperature\n",
    "}\n",
    "\n",
    "restartfreq        1000     ;# 1000steps = every 2ps\n",
    "dcdfreq            1000\n",
    "xstFreq            1000\n",
    "outputEnergies      50\n",
    "outputPressure      50\n",
    "\n",
    "#############################################################\n",
    "## EXTRA PARAMETERS                                        ##\n",
    "#############################################################\n",
    "\n",
    "# Put here any custom parameters that are specific to \n",
    "# this job (e.g., SMD, TclForces, etc...)\n",
    "\n",
    "colvars on\n",
    "colvarsConfig cosolvent2.col\n",
    "\n",
    "#############################################################\n",
    "## EXECUTION SCRIPT                                        ##\n",
    "#############################################################\n",
    "\n",
    "run 5000000;# 10.0 ns\n",
    "\"\"\", file=open(\"eq-03.conf\", \"w\"))"
   ]
  },
  {
   "cell_type": "markdown",
   "metadata": {},
   "source": [
    "## Create Collective Variable File for Production"
   ]
  },
  {
   "cell_type": "code",
   "execution_count": 41,
   "metadata": {
    "collapsed": true
   },
   "outputs": [],
   "source": [
    "print(\"\"\"\n",
    "Colvarstrajfrequency    50\n",
    "Colvarsrestartfrequency 50\n",
    "\"\"\", file=open(\"cosolvent3.col\", \"w\"))\n",
    "\n",
    "for element in csolec:\n",
    "    zio=plm.get(\"serial\",sel=\"resname %s and resid %s and z > 0\" %(csolv,element))\n",
    "    print(\"\"\"\n",
    "    ### Mol n. %s ###\n",
    "    colvar {\n",
    "       name ec_%s\n",
    "       upperboundary %s\n",
    "       upperwallconstant 200.0\n",
    "       lowerboundary 0.0\n",
    "       lowerwallconstant 200.0\n",
    "       distancexy {\n",
    "          ref {\n",
    "             dummyAtom ( 0.000, 0.000, 0.000 )\n",
    "          }\n",
    "          main {\n",
    "             atomNumbers {%s}\n",
    "          }\n",
    "         axis (0.0, 0.0, 1.0)\n",
    "       }\n",
    "    }\n",
    "\n",
    "    colvar {\n",
    "       name ecz_%s\n",
    "       upperboundary %s\n",
    "       lowerboundary 0.0\n",
    "       upperwallconstant 200.0\n",
    "       distanceZ {\n",
    "          ref {\n",
    "             dummyAtom ( 0.000, 0.000, %s )\n",
    "          }\n",
    "          main {\n",
    "            atomNumbers {%s}\n",
    "          }\n",
    "       }\n",
    "    } \n",
    "    \"\"\" %(element,element,smallr,str(zio).strip('[]'),element,zheight,zl2,str(zio).strip('[]')), file=open(\"cosolvent3.col\", \"a\"))\n",
    "print(\"\"\"\n",
    "    colvar {\n",
    "      name Origin\n",
    "      distance {\n",
    "         group1 {\n",
    "          psfSegID PRO\n",
    "          atomNameResidueRange CA %s\n",
    "          centerReference on\n",
    "          refPositions (0,0,0)\n",
    "         }\n",
    "         group2 {\n",
    "         dummyAtom (%s,%s,%s)\n",
    "         }\n",
    "      }\n",
    "    }\n",
    "    \"\"\"%(ca,protcenx,protceny,protcenz), file=open(\"cosolvent3.col\", \"a\"))"
   ]
  },
  {
   "cell_type": "markdown",
   "metadata": {},
   "source": [
    "## Create Input File for Production"
   ]
  },
  {
   "cell_type": "code",
   "execution_count": 42,
   "metadata": {
    "collapsed": true
   },
   "outputs": [],
   "source": [
    "print(\"\"\"\n",
    "#############################################################\n",
    "## JOB DESCRIPTION                                         ##\n",
    "#############################################################\n",
    "\n",
    "# Min. and Eq. of Co-Solvent Membrane System\n",
    "# embedded in POPC membrane, ions and water.\n",
    "# Protein released. PME, Constant Pressure and Area.\n",
    "\n",
    "#############################################################\n",
    "## ADJUSTABLE PARAMETERS                                   ##\n",
    "#############################################################\n",
    "\n",
    "structure          structure.psf\n",
    "coordinates        structure.pdb\n",
    "outputName         run          \n",
    "\n",
    "set temperature    310\n",
    "\n",
    "# Continuing a job from the restart files\n",
    "if {1} {\n",
    "set inputname      eq-03\n",
    "binCoordinates     ../equil/$inputname.restart.coor\n",
    "binVelocities      ../equil/$inputname.restart.vel  \n",
    "extendedSystem\t   ../equil/$inputname.restart.xsc\n",
    "} \n",
    "\n",
    "firsttimestep      6501500 ;# last step of previous run\n",
    "\n",
    "#############################################################\n",
    "## SIMULATION PARAMETERS                                   ##\n",
    "#############################################################\n",
    "\n",
    "# Input\n",
    "paraTypeCharmm\t    on\n",
    "parameters          parameters\n",
    "\n",
    "wrapWater           on\n",
    "wrapAll             on\n",
    "\n",
    "# Force-Field Parameters\n",
    "exclude             scaled1-4\n",
    "1-4scaling          1.0\n",
    "cutoff              12.\n",
    "switching           on\n",
    "switchdist          10.\n",
    "pairlistdist        13.5\n",
    "\n",
    "# Integrator Parameters\n",
    "timestep            2.0  ;# 2fs/step\n",
    "rigidBonds          all  ;# needed for 2fs steps\n",
    "nonbondedFreq       1\n",
    "fullElectFrequency  2  \n",
    "stepspercycle       20\n",
    "\n",
    "#PME (for full-system periodic electrostatics)\n",
    "if {1} {\n",
    "PME                yes\n",
    "PMEGridSpacing     1.0\n",
    "}\n",
    "\n",
    "# Constant Temperature Control\n",
    "langevin            on    ;# do langevin dynamics\n",
    "langevinDamping     1     ;# damping coefficient (gamma) of 5/ps\n",
    "langevinTemp        $temperature\n",
    "\n",
    "# Constant Pressure Control (variable volume)\n",
    "if {1} {\n",
    "useGroupPressure      yes ;# needed for 2fs steps\n",
    "useFlexibleCell       yes  ;# no for water box, yes for membrane\n",
    "useConstantArea       yes ;# no for water box, yes for membrane\n",
    "\n",
    "langevinPiston        on\n",
    "langevinPistonTarget  1.01325 ;#  in bar -> 1 atm\n",
    "langevinPistonPeriod  200.\n",
    "langevinPistonDecay   50.\n",
    "langevinPistonTemp    $temperature\n",
    "}\n",
    "\n",
    "restartfreq        1000     ;# 1000steps = every 2ps\n",
    "dcdfreq            1000\n",
    "xstFreq            1000\n",
    "outputEnergies      50\n",
    "outputPressure      50\n",
    "\n",
    "#############################################################\n",
    "## EXTRA PARAMETERS                                        ##\n",
    "#############################################################\n",
    "\n",
    "# Put here any custom parameters that are specific to \n",
    "# this job (e.g., SMD, TclForces, etc...)\n",
    "\n",
    "constraints on\n",
    "consexp 2 \n",
    "consref ./structure.pdb\n",
    "conskfile prod.pdb\n",
    "conskcol B\n",
    "margin 3  \n",
    "\n",
    "colvars on\n",
    "colvarsConfig cosolvent3.col\n",
    "\n",
    "#############################################################\n",
    "## EXECUTION SCRIPT                                        ##\n",
    "#############################################################\n",
    "if {1} { \n",
    "  minimize            240\n",
    "  reinitvels          $temperature\n",
    "  } \n",
    "\n",
    "  run 20000000 ;# 40.0 ns\n",
    "\"\"\",file=open(\"run.conf\", \"w\"))"
   ]
  },
  {
   "cell_type": "markdown",
   "metadata": {},
   "source": [
    "## Print System Specs in a file"
   ]
  },
  {
   "cell_type": "code",
   "execution_count": 46,
   "metadata": {},
   "outputs": [],
   "source": [
    "print(\"\"\"\n",
    "Protein Dimensions: %s %s\n",
    "Cosolvent Boxes Dimensions: %s %s %s\n",
    "Number of Cosolvent Molecules: %s\n",
    "Cell Dimensions: %s %s %s\n",
    "Cell Origin: %s %s %s\n",
    "Protein Center of Mass: %s %s %s\n",
    "Cylinder Radius: %s\n",
    "Cylinder Z Boundary: %s\n",
    "Cylinder Smaller Radius: %s\n",
    "\"\"\" %(xsize,ysize,intxs,intys,intzs,cnumsol,bxsize,bysize,bzsize,bcenx,bceny,bcenz,protcenx,protceny,protcenz,radius,zl2,smallr),file=open(\"system-specs.txt\", \"w\"))"
   ]
  }
 ],
 "metadata": {
  "kernelspec": {
   "display_name": "Python 3",
   "language": "python",
   "name": "python3"
  },
  "language_info": {
   "codemirror_mode": {
    "name": "ipython",
    "version": 3
   },
   "file_extension": ".py",
   "mimetype": "text/x-python",
   "name": "python",
   "nbconvert_exporter": "python",
   "pygments_lexer": "ipython3",
   "version": "3.6.6"
  }
 },
 "nbformat": 4,
 "nbformat_minor": 2
}
